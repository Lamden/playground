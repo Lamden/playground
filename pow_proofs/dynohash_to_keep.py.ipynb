{
 "cells": [
  {
   "cell_type": "code",
   "execution_count": 1,
   "metadata": {
    "ExecuteTime": {
     "end_time": "2018-01-27T19:37:03.870870Z",
     "start_time": "2018-01-27T19:37:03.849599Z"
    }
   },
   "outputs": [],
   "source": [
    "# create a simple POW interface so we can test a ton of different proof methods\n",
    "class POW(object):\n",
    "    def __init__(self, generator, prover):\n",
    "        assert generator != None and prover != None, 'Provide a secret generation function and a conditional \\\n",
    "        to test if a proof is valid'\n",
    "        self.generator = generator\n",
    "        self.prover = prover\n",
    "        \n",
    "    def find(self, payload: bytes):\n",
    "        while True:\n",
    "            # generate a new secret to test\n",
    "            secret = self.generator()\n",
    "\n",
    "            # test said secret\n",
    "            if self.prover(payload, secret):\n",
    "                break\n",
    "\n",
    "        # return when satisfied\n",
    "        return secret\n",
    "\n",
    "    def check(self, payload: bytes, secret: bytes):\n",
    "        return self.prover(payload, secret)"
   ]
  },
  {
   "cell_type": "code",
   "execution_count": 2,
   "metadata": {
    "ExecuteTime": {
     "end_time": "2018-01-27T19:37:13.033278Z",
     "start_time": "2018-01-27T19:37:12.991677Z"
    }
   },
   "outputs": [],
   "source": [
    "# a cleaner interface\n",
    "\n",
    "def gen_nonce():\n",
    "    return secrets.token_bytes()\n",
    "\n",
    "def dyno_proof_satisfied(payload: bytes, secret: bytes, difficulty: int=13):\n",
    "    # calculate the hash of combined payload and secret\n",
    "    h = hashlib.sha256()\n",
    "    h.update(payload + secret)\n",
    "    \n",
    "    # turn this into a binary substring from index 1 -> the level of difficulty\n",
    "    BINARY_LITERAL_CLIP = 3\n",
    "    x = byte_to_int(h.digest())\n",
    "    x = bin(x)\n",
    "    x = x[BINARY_LITERAL_CLIP:BINARY_LITERAL_CLIP+difficulty]\n",
    "    \n",
    "    # create a string full of zeros the length of the level of difficulty\n",
    "    y = ''.join(['0' for x in range(difficulty)])\n",
    "    \n",
    "    # return the comparison\n",
    "    return x == y\n",
    "\n",
    "def find_proof(payload: bytes, generator=gen_nonce, condition=None):\n",
    "    while True:\n",
    "        # generate a new secret to test\n",
    "        secret = generator()\n",
    "        \n",
    "        # test said secret\n",
    "        if condition(payload, secret):\n",
    "            break\n",
    "        \n",
    "    # return when satisfied\n",
    "    return secret"
   ]
  },
  {
   "cell_type": "code",
   "execution_count": 3,
   "metadata": {
    "ExecuteTime": {
     "end_time": "2018-01-27T19:37:24.562172Z",
     "start_time": "2018-01-27T19:37:24.557599Z"
    }
   },
   "outputs": [],
   "source": [
    "def string_satisfies_mud(s: str, difficulty: int=10, mud: int=2):\n",
    "    assert len(s) == difficulty, 'Pass in a proof string the length of the true difficulty'\n",
    "    l = [int(ss) for ss in s]\n",
    "    return sum(l) <= mud"
   ]
  },
  {
   "cell_type": "code",
   "execution_count": null,
   "metadata": {},
   "outputs": [],
   "source": []
  }
 ],
 "metadata": {
  "kernelspec": {
   "display_name": "Python 3",
   "language": "python",
   "name": "python3"
  },
  "language_info": {
   "codemirror_mode": {
    "name": "ipython",
    "version": 3
   },
   "file_extension": ".py",
   "mimetype": "text/x-python",
   "name": "python",
   "nbconvert_exporter": "python",
   "pygments_lexer": "ipython3",
   "version": "3.6.2"
  }
 },
 "nbformat": 4,
 "nbformat_minor": 2
}
