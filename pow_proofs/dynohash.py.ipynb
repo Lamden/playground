{
 "cells": [
  {
   "cell_type": "code",
   "execution_count": 1,
   "metadata": {
    "ExecuteTime": {
     "end_time": "2018-01-27T07:07:00.841351Z",
     "start_time": "2018-01-27T07:07:00.833218Z"
    }
   },
   "outputs": [],
   "source": [
    "# Dynohash\n",
    "# a dynamic POW hash puzzle based on a maximum payload\n",
    "# this is to maintain low tx fees but still allow complex data to be passed around\n",
    "# the idea is that lets assume a tx max size of 1kb\n",
    "# most txs are say 100 bytes\n",
    "# if an attacker wants to spam the network, if its not 10x as hard to solve a 1kb payload, then they can do \n",
    "# much more damage.\n",
    "# thus...\n",
    "#\n",
    "# take the original hashcash idea where H(PAYLOAD + nonce) = 0x000...abc, where the number of leading 0s\n",
    "# fluctuates. this is the difficulty\n",
    "# however, in a normal hash, which is usually 64 bytes, thats only 64 degrees of difficulty granularity\n",
    "# we should smash it down into binary where each byte is 8 bits so that a 64 byte payload now has\n",
    "# 512 degrees of granularity.\n",
    "# let's just code it.\n",
    "\n",
    "import hashlib"
   ]
  },
  {
   "cell_type": "code",
   "execution_count": 2,
   "metadata": {
    "ExecuteTime": {
     "end_time": "2018-01-27T07:07:12.573173Z",
     "start_time": "2018-01-27T07:07:12.570079Z"
    }
   },
   "outputs": [],
   "source": [
    "h = hashlib.sha256()"
   ]
  },
  {
   "cell_type": "code",
   "execution_count": 3,
   "metadata": {
    "ExecuteTime": {
     "end_time": "2018-01-27T07:07:23.003869Z",
     "start_time": "2018-01-27T07:07:22.998609Z"
    }
   },
   "outputs": [],
   "source": [
    "import secrets"
   ]
  },
  {
   "cell_type": "code",
   "execution_count": 5,
   "metadata": {
    "ExecuteTime": {
     "end_time": "2018-01-27T07:07:35.815139Z",
     "start_time": "2018-01-27T07:07:35.811096Z"
    }
   },
   "outputs": [
    {
     "data": {
      "text/plain": [
       "b'm\\x97\\xd3$Nj\\x06\\x9b\\xa3\\xdb\\x8a\\x0f!\\xefD\\xf5a1\\xc4 f\\xd9\\x83D\\xba\\x7f(\\x7f24\\x04\\x9e'"
      ]
     },
     "execution_count": 5,
     "metadata": {},
     "output_type": "execute_result"
    }
   ],
   "source": [
    "secrets.token_bytes()"
   ]
  },
  {
   "cell_type": "code",
   "execution_count": 10,
   "metadata": {
    "ExecuteTime": {
     "end_time": "2018-01-27T07:10:59.639594Z",
     "start_time": "2018-01-27T07:10:59.635483Z"
    }
   },
   "outputs": [],
   "source": [
    "def byte_to_int(b):\n",
    "    x = 0\n",
    "    for bb in b:\n",
    "        x = x * 256 + int(bb)\n",
    "    return x"
   ]
  },
  {
   "cell_type": "code",
   "execution_count": 11,
   "metadata": {
    "ExecuteTime": {
     "end_time": "2018-01-27T07:10:59.933650Z",
     "start_time": "2018-01-27T07:10:59.929018Z"
    }
   },
   "outputs": [
    {
     "data": {
      "text/plain": [
       "'0b111000101101011111000000010100001011000011011011000001000010101101101001001010110001110110001011110100100101011011111111110010011100000010011010000001001101000001111011100010011001101101100010100101111110100100010011101010000110111101111111010011000'"
      ]
     },
     "execution_count": 11,
     "metadata": {},
     "output_type": "execute_result"
    }
   ],
   "source": [
    "bin(byte_to_int(secrets.token_bytes()))"
   ]
  },
  {
   "cell_type": "code",
   "execution_count": 72,
   "metadata": {
    "ExecuteTime": {
     "end_time": "2018-01-27T07:17:14.531510Z",
     "start_time": "2018-01-27T07:17:14.522246Z"
    }
   },
   "outputs": [
    {
     "name": "stdout",
     "output_type": "stream",
     "text": [
      "b'\\x04\\n\\xe5Oj|h%/A\\xd3\\xcct\\xb3\\xe2\\xfd\\x8d\\xa6\\xd2\\x08\\xe4\\x13\\xe1\\xd7/t\\x8d\\r\\xcf[\\xb5\\xb0'\n",
      "0b10000001010111001010100111101101010011111000110100000100101001011110100000111010011110011000111010010110011111000101111110110001101101001101101001000001000111001000001001111100001110101110010111101110100100011010000110111001111010110111011010110110000\n"
     ]
    }
   ],
   "source": [
    "s = secrets.token_bytes()\n",
    "\n",
    "\n",
    "while bin(byte_to_int(s))[3:][:5] != '00000':\n",
    "    s = secrets.token_bytes()\n",
    "    \n",
    "print(s)\n",
    "print(bin(byte_to_int(s)))"
   ]
  },
  {
   "cell_type": "code",
   "execution_count": 97,
   "metadata": {
    "ExecuteTime": {
     "end_time": "2018-01-27T07:22:23.961693Z",
     "start_time": "2018-01-27T07:22:23.941904Z"
    }
   },
   "outputs": [
    {
     "data": {
      "text/plain": [
       "(b'@\\x06\\xdbA\\xeak$\\xc1\\x9c\\xbd\\xf9\\x1ai\\x9a\\xa1\\xf3\\xc3_*ZgB\\x98\\xc0\\xf6\\xf5\\x16q>\\xaaV\\xa1',\n",
       " '00000000000110110110110100000111101010011010110010010011000001100111001011110111111001000110100110100110011010101000011111001111000011010111110010101001011010011001110100001010011000110000001111011011110101000101100111000100111110101010100101011010100001')"
      ]
     },
     "execution_count": 97,
     "metadata": {},
     "output_type": "execute_result"
    }
   ],
   "source": [
    "def mini_dyno(difficulty=10):\n",
    "    s = secrets.token_bytes()\n",
    "    while bin(byte_to_int(s))[3:][:difficulty] != ''.join(['0' for x in range(difficulty)]):\n",
    "        s = secrets.token_bytes()\n",
    "    return s, bin(byte_to_int(s))[3:]\n",
    "mini_dyno()"
   ]
  },
  {
   "cell_type": "code",
   "execution_count": 134,
   "metadata": {
    "ExecuteTime": {
     "end_time": "2018-01-27T07:34:28.972380Z",
     "start_time": "2018-01-27T07:34:11.519819Z"
    }
   },
   "outputs": [
    {
     "data": {
      "text/plain": [
       "(b'\\xa1A\\xd7\\xa4\\x98\\xde1I!\\x9ar\\xce\\xd7\\x7f\\xd6\\xee\\xe6(\\xf6\\xb0\\xe0\\xd2f\\xf3i-\\rh\\x14F\\xb3\\xac',\n",
       " '000000000000000000001111010111001100101001101101000011000011111110100101001000101110101011101111110010001100011000011000001111011110110000110100011011101110010110011000100110010000010101110011011011110100101011001110010110001001110000010010101000111101111')"
      ]
     },
     "execution_count": 134,
     "metadata": {},
     "output_type": "execute_result"
    }
   ],
   "source": [
    "def mini_dyno_payload(payload, difficulty=19):\n",
    "    # payload + nonce solves the puzzle. payload is a bytestring\n",
    "    s = secrets.token_bytes()\n",
    "    h = hashlib.sha256()\n",
    "    h.update(payload + s)\n",
    "    while bin(byte_to_int(h.digest()))[3:][:difficulty] != ''.join(['0' for x in range(difficulty)]):\n",
    "        s = secrets.token_bytes()\n",
    "        h = hashlib.sha256()\n",
    "        h.update(payload + s)\n",
    "    return s, bin(byte_to_int(h.digest()))[3:]\n",
    "\n",
    "payload = secrets.token_bytes(256)\n",
    "\n",
    "mini_dyno_payload(payload)"
   ]
  },
  {
   "cell_type": "code",
   "execution_count": null,
   "metadata": {},
   "outputs": [],
   "source": [
    "# the differences in time between 18 - 20 difficulty is ridiculous...\n",
    "# what if we introduced a 'muddy proof' where the first X digits could only total up to a certain number?\n",
    "# this could provide even more granularity\n",
    "# first perhaps do time tests?"
   ]
  },
  {
   "cell_type": "code",
   "execution_count": 135,
   "metadata": {
    "ExecuteTime": {
     "end_time": "2018-01-27T07:35:34.023933Z",
     "start_time": "2018-01-27T07:35:34.020586Z"
    }
   },
   "outputs": [],
   "source": [
    "# TIME IT!\n",
    "import time\n",
    "current_milli_time = lambda: int(round(time.time() * 1000))"
   ]
  },
  {
   "cell_type": "code",
   "execution_count": 145,
   "metadata": {
    "ExecuteTime": {
     "end_time": "2018-01-27T07:38:45.265471Z",
     "start_time": "2018-01-27T07:38:43.446354Z"
    }
   },
   "outputs": [],
   "source": [
    "tt = []\n",
    "for y in range(10):\n",
    "    t = []\n",
    "    for x in range(100):\n",
    "        t_1 = current_milli_time()\n",
    "        payload = secrets.token_bytes(256)\n",
    "        mini_dyno_payload(payload, difficulty = y)\n",
    "        t_2 = current_milli_time()\n",
    "        t.append(t_2 - t_1)\n",
    "    tt.append(t)"
   ]
  },
  {
   "cell_type": "code",
   "execution_count": 147,
   "metadata": {
    "ExecuteTime": {
     "end_time": "2018-01-27T07:38:56.439700Z",
     "start_time": "2018-01-27T07:38:56.435824Z"
    },
    "scrolled": true
   },
   "outputs": [
    {
     "name": "stdout",
     "output_type": "stream",
     "text": [
      "[[0, 0, 0, 0, 1, 0, 0, 0, 0, 0, 0, 0, 0, 0, 0, 0, 0, 0, 0, 0, 0, 1, 0, 0, 0, 0, 0, 0, 0, 0, 0, 0, 0, 0, 0, 0, 0, 0, 0, 1, 0, 0, 0, 0, 0, 0, 0, 0, 0, 0, 0, 0, 0, 0, 0, 1, 0, 0, 0, 0, 0, 0, 0, 0, 0, 0, 0, 0, 0, 0, 0, 0, 0, 0, 0, 0, 0, 1, 0, 0, 0, 0, 0, 0, 0, 0, 0, 0, 0, 0, 0, 0, 0, 0, 0, 0, 1, 0, 0, 0], [0, 0, 0, 0, 0, 0, 0, 0, 0, 0, 0, 0, 1, 0, 0, 0, 0, 0, 0, 0, 0, 0, 0, 0, 0, 0, 0, 0, 0, 1, 0, 0, 0, 0, 0, 0, 0, 0, 0, 0, 0, 1, 0, 0, 0, 0, 0, 0, 0, 0, 0, 0, 0, 0, 1, 0, 0, 0, 0, 0, 0, 1, 0, 0, 0, 0, 0, 0, 0, 0, 0, 1, 0, 0, 0, 0, 1, 0, 0, 0, 0, 0, 0, 1, 0, 0, 0, 0, 0, 0, 0, 0, 0, 0, 0, 0, 0, 1, 0, 0], [0, 0, 0, 0, 0, 0, 0, 0, 1, 0, 0, 0, 0, 0, 0, 0, 0, 0, 1, 0, 0, 0, 0, 0, 0, 0, 0, 1, 0, 0, 0, 0, 0, 0, 1, 0, 0, 0, 0, 0, 0, 0, 0, 0, 0, 0, 0, 1, 0, 0, 0, 0, 0, 0, 0, 1, 0, 0, 0, 0, 0, 0, 0, 0, 1, 0, 0, 0, 0, 0, 0, 1, 0, 0, 0, 0, 0, 0, 0, 0, 0, 0, 1, 0, 0, 0, 0, 0, 0, 0, 0, 0, 1, 0, 0, 0, 0, 0, 1, 0], [0, 0, 0, 0, 0, 1, 0, 0, 0, 0, 0, 1, 0, 0, 0, 0, 0, 0, 1, 0, 0, 0, 1, 0, 0, 0, 0, 0, 1, 0, 0, 0, 0, 0, 0, 0, 1, 0, 0, 0, 0, 0, 1, 0, 0, 0, 0, 0, 0, 0, 0, 0, 0, 0, 1, 0, 0, 0, 0, 0, 0, 1, 0, 0, 0, 0, 1, 0, 0, 0, 0, 0, 0, 1, 1, 0, 0, 0, 0, 1, 0, 0, 0, 1, 0, 0, 0, 0, 0, 1, 0, 0, 0, 1, 0, 0, 0, 0, 0, 1], [0, 0, 0, 0, 1, 0, 0, 1, 0, 0, 0, 1, 0, 0, 0, 0, 0, 1, 1, 0, 1, 0, 0, 1, 0, 0, 1, 1, 0, 0, 0, 0, 1, 1, 0, 1, 0, 0, 0, 1, 0, 0, 0, 1, 0, 0, 0, 0, 0, 1, 0, 0, 0, 1, 0, 0, 1, 0, 1, 0, 1, 0, 0, 0, 1, 0, 1, 0, 1, 0, 0, 1, 0, 0, 1, 1, 0, 1, 0, 1, 1, 1, 1, 0, 1, 1, 0, 1, 0, 0, 1, 1, 0, 1, 0, 2, 1, 0, 0, 1], [1, 0, 1, 0, 1, 0, 0, 0, 1, 1, 1, 0, 1, 3, 1, 1, 1, 0, 0, 1, 0, 1, 0, 1, 1, 2, 0, 0, 1, 0, 1, 0, 1, 0, 1, 1, 0, 1, 1, 0, 1, 0, 1, 0, 1, 0, 0, 1, 1, 1, 0, 1, 1, 1, 0, 0, 0, 1, 0, 1, 0, 3, 3, 0, 0, 1, 1, 2, 0, 0, 0, 1, 0, 1, 2, 0, 1, 0, 0, 0, 1, 1, 0, 1, 0, 0, 1, 2, 0, 0, 0, 0, 1, 1, 0, 0, 1, 2, 0, 1], [0, 0, 1, 1, 1, 0, 0, 2, 0, 0, 1, 2, 5, 3, 2, 1, 1, 2, 1, 2, 4, 4, 0, 1, 0, 0, 0, 2, 0, 1, 1, 0, 1, 1, 1, 0, 0, 1, 2, 2, 1, 1, 1, 0, 1, 1, 0, 3, 1, 1, 3, 1, 1, 2, 1, 1, 1, 1, 1, 2, 1, 2, 1, 0, 0, 2, 4, 1, 2, 1, 1, 0, 0, 2, 0, 1, 1, 1, 1, 1, 1, 2, 1, 0, 3, 2, 1, 1, 1, 1, 1, 1, 0, 1, 1, 1, 1, 4, 0, 2], [1, 1, 1, 0, 1, 3, 0, 1, 1, 3, 2, 4, 2, 4, 3, 0, 0, 1, 1, 6, 4, 2, 2, 7, 0, 0, 0, 3, 3, 1, 1, 0, 1, 0, 0, 5, 2, 2, 0, 2, 1, 4, 0, 4, 0, 1, 1, 3, 5, 1, 5, 1, 3, 3, 2, 3, 3, 2, 0, 0, 1, 3, 1, 5, 2, 1, 5, 2, 0, 4, 5, 1, 0, 13, 2, 1, 1, 1, 4, 0, 0, 5, 2, 1, 3, 1, 1, 1, 5, 2, 1, 1, 2, 2, 1, 1, 1, 4, 1, 4], [5, 2, 6, 3, 16, 3, 2, 3, 3, 2, 3, 3, 12, 1, 2, 7, 1, 4, 1, 2, 26, 4, 1, 1, 1, 1, 6, 5, 9, 3, 4, 9, 14, 1, 1, 7, 4, 2, 4, 14, 4, 6, 1, 17, 8, 6, 7, 4, 13, 2, 7, 5, 7, 2, 4, 4, 2, 1, 1, 0, 1, 1, 3, 5, 7, 2, 2, 2, 1, 10, 2, 3, 1, 2, 0, 3, 2, 1, 1, 5, 6, 1, 1, 3, 3, 17, 1, 14, 2, 9, 11, 1, 5, 0, 3, 11, 1, 12, 1, 1], [13, 38, 0, 3, 11, 28, 5, 0, 1, 21, 2, 17, 6, 15, 0, 2, 2, 1, 9, 18, 7, 31, 0, 7, 6, 8, 16, 1, 15, 14, 26, 5, 1, 25, 0, 7, 28, 27, 11, 3, 2, 6, 1, 0, 6, 9, 6, 5, 7, 21, 14, 17, 16, 3, 11, 21, 34, 5, 4, 11, 2, 14, 10, 0, 11, 1, 1, 4, 7, 2, 1, 6, 2, 4, 1, 4, 2, 13, 22, 1, 12, 3, 7, 1, 13, 4, 10, 8, 2, 1, 8, 12, 9, 27, 10, 6, 2, 0, 11, 4]]\n"
     ]
    }
   ],
   "source": [
    "print(tt)"
   ]
  },
  {
   "cell_type": "code",
   "execution_count": 148,
   "metadata": {
    "ExecuteTime": {
     "end_time": "2018-01-27T07:39:24.429869Z",
     "start_time": "2018-01-27T07:39:24.425123Z"
    }
   },
   "outputs": [
    {
     "data": {
      "text/plain": [
       "[0.06, 0.09, 0.11, 0.17, 0.4, 0.64, 1.17, 2.03, 4.56, 8.87]"
      ]
     },
     "execution_count": 148,
     "metadata": {},
     "output_type": "execute_result"
    }
   ],
   "source": [
    "[sum(l) / float(len(l)) for l in tt]"
   ]
  },
  {
   "cell_type": "code",
   "execution_count": 149,
   "metadata": {
    "ExecuteTime": {
     "end_time": "2018-01-27T07:40:11.818878Z",
     "start_time": "2018-01-27T07:40:11.230006Z"
    }
   },
   "outputs": [
    {
     "data": {
      "image/png": "[encoded data removed]",
      "text/plain": [
       "<matplotlib.figure.Figure at 0x10667f160>"
      ]
     },
     "metadata": {},
     "output_type": "display_data"
    }
   ],
   "source": [
    "import matplotlib.pyplot as plt\n",
    "plt.plot([sum(l) / float(len(l)) for l in tt])\n",
    "plt.show()"
   ]
  },
  {
   "cell_type": "code",
   "execution_count": 151,
   "metadata": {
    "ExecuteTime": {
     "end_time": "2018-01-27T07:40:36.134056Z",
     "start_time": "2018-01-27T07:40:36.131589Z"
    }
   },
   "outputs": [],
   "source": [
    "# this is clearly exponential so we need to find a way to make it linear\n",
    "# lets MUDDY THE WATERS\n",
    "# to do, try muddy proofs and plot the average solve time and try to find a formula for a linear difficulty scale\n",
    "# for proofs\n",
    "# Mud is allowing a '1' digit in the otherwise 'clean' leading zero proof such that\n",
    "# difficulty = 4, mud = 1\n",
    "# '0000', '1000', '0100', '0010', '0001' are all valid proofs"
   ]
  },
  {
   "cell_type": "code",
   "execution_count": 299,
   "metadata": {
    "ExecuteTime": {
     "end_time": "2018-01-27T18:57:07.891966Z",
     "start_time": "2018-01-27T18:57:07.858783Z"
    }
   },
   "outputs": [],
   "source": [
    "# a cleaner interface\n",
    "\n",
    "def gen_nonce():\n",
    "    return secrets.token_bytes()\n",
    "\n",
    "def dyno_proof_satisfied(payload: bytes, secret: bytes, difficulty: int=13):\n",
    "    # calculate the hash of combined payload and secret\n",
    "    h = hashlib.sha256()\n",
    "    h.update(payload + secret)\n",
    "    \n",
    "    # turn this into a binary substring from index 1 -> the level of difficulty\n",
    "    BINARY_LITERAL_CLIP = 3\n",
    "    x = byte_to_int(h.digest())\n",
    "    x = bin(x)\n",
    "    x = x[BINARY_LITERAL_CLIP:BINARY_LITERAL_CLIP+difficulty]\n",
    "    \n",
    "    # create a string full of zeros the length of the level of difficulty\n",
    "    y = ''.join(['0' for x in range(difficulty)])\n",
    "    \n",
    "    # return the comparison\n",
    "    return x == y\n",
    "\n",
    "def find_proof(payload: bytes, generator=gen_nonce, condition=None):\n",
    "    while True:\n",
    "        # generate a new secret to test\n",
    "        secret = generator()\n",
    "        \n",
    "        # test said secret\n",
    "        if condition(payload, secret):\n",
    "            break\n",
    "        \n",
    "    # return when satisfied\n",
    "    return secret"
   ]
  },
  {
   "cell_type": "code",
   "execution_count": 300,
   "metadata": {
    "ExecuteTime": {
     "end_time": "2018-01-27T18:57:08.386774Z",
     "start_time": "2018-01-27T18:57:08.191387Z"
    }
   },
   "outputs": [
    {
     "name": "stdout",
     "output_type": "stream",
     "text": [
      "b'\\x15>\\xb6\\xeb\\xfa\\xbeT\\x16\\xc7s\\x83\\xe9Y\\x8cx\\x86\\xac\\xb7]0G\\xccch8\\x01\\xb8N97\\xf6\\xe5'\n",
      "True\n"
     ]
    }
   ],
   "source": [
    "payload = secrets.token_bytes(256)\n",
    "x = find_proof(payload, condition=dyno_proof_satisfied)\n",
    "print(x)\n",
    "print(dyno_proof_satisfied(payload, x))"
   ]
  },
  {
   "cell_type": "code",
   "execution_count": 320,
   "metadata": {
    "ExecuteTime": {
     "end_time": "2018-01-27T19:13:05.299341Z",
     "start_time": "2018-01-27T19:13:05.280861Z"
    }
   },
   "outputs": [],
   "source": [
    "# create a simple POW interface so we can test a ton of different proof methods\n",
    "class POW(object):\n",
    "    def __init__(self, generator, prover):\n",
    "        assert generator != None and prover != None, 'Provide a secret generation function and a conditional \\\n",
    "        to test if a proof is valid'\n",
    "        self.generator = generator\n",
    "        self.prover = prover\n",
    "        \n",
    "    def find(self, payload: bytes):\n",
    "        while True:\n",
    "            # generate a new secret to test\n",
    "            secret = self.generator()\n",
    "\n",
    "            # test said secret\n",
    "            if self.prover(payload, secret):\n",
    "                break\n",
    "\n",
    "        # return when satisfied\n",
    "        return secret\n",
    "\n",
    "    def check(self, payload: bytes, secret: bytes):\n",
    "        return self.prover(payload, secret)"
   ]
  },
  {
   "cell_type": "code",
   "execution_count": 321,
   "metadata": {
    "ExecuteTime": {
     "end_time": "2018-01-27T19:13:05.617157Z",
     "start_time": "2018-01-27T19:13:05.614457Z"
    }
   },
   "outputs": [],
   "source": [
    "p = POW(gen_nonce, dyno_proof_satisfied)"
   ]
  },
  {
   "cell_type": "code",
   "execution_count": 335,
   "metadata": {
    "ExecuteTime": {
     "end_time": "2018-01-27T19:15:22.755448Z",
     "start_time": "2018-01-27T19:15:22.511955Z"
    }
   },
   "outputs": [],
   "source": [
    "test_tx = b'to: stu, from: jason, amount: 500'\n",
    "x = p.find(test_tx)"
   ]
  },
  {
   "cell_type": "code",
   "execution_count": 338,
   "metadata": {
    "ExecuteTime": {
     "end_time": "2018-01-27T19:15:23.950419Z",
     "start_time": "2018-01-27T19:15:23.946392Z"
    }
   },
   "outputs": [
    {
     "data": {
      "text/plain": [
       "b'\\xad\\x98#\\xfa\\x02\\x7f5W\\xdbc\\xedyk\\x17 ]\\xa4\\xb1T\\x96W\\xf3\\nM\\x00\\x8bea\\xdfE\\x7f{'"
      ]
     },
     "execution_count": 338,
     "metadata": {},
     "output_type": "execute_result"
    }
   ],
   "source": [
    "x"
   ]
  },
  {
   "cell_type": "code",
   "execution_count": 339,
   "metadata": {
    "ExecuteTime": {
     "end_time": "2018-01-27T19:15:24.140403Z",
     "start_time": "2018-01-27T19:15:24.131270Z"
    }
   },
   "outputs": [
    {
     "name": "stdout",
     "output_type": "stream",
     "text": [
      "0b1000000000000001001100011101111000001000111111010011001100110010001110101100110011101100010101100100110111101111000101000110111100110011010110000110010010011110001011000101001001000000101001011010010111110011101001101010001000110111101001011010000000111110\n"
     ]
    }
   ],
   "source": [
    "h = hashlib.sha256()\n",
    "h.update(test_tx + x)\n",
    "y = h.digest()\n",
    "print(bin(byte_to_int(y)))\n",
    "# '0b1' + '0000000000000' <- difficulty is 12, thus 12 leading zeros on the binary string"
   ]
  },
  {
   "cell_type": "code",
   "execution_count": 352,
   "metadata": {
    "ExecuteTime": {
     "end_time": "2018-01-27T19:23:47.984488Z",
     "start_time": "2018-01-27T19:23:47.977916Z"
    }
   },
   "outputs": [],
   "source": [
    "# takes a payload where the proof can be satisfied if the difficulty string (0000000000) contains up to the mud\n",
    "# limit (2)\n",
    "# aka, '0000000000' and '0000100000' and '0000000100' are all valid as well as '0001000100' etc...\n",
    "# this should provide some flexibility and decrease the exponential difficulty curve so that we can create a nuanced\n",
    "# POW system. aka, control the exact average milliseconds a proof generally takes\n",
    "def string_satisfies_mud(s: str, difficulty: int=10, mud: int=2):\n",
    "    assert len(s) == difficulty, 'Pass in a proof string the length of the true difficulty'\n",
    "    l = [int(ss) for ss in s]\n",
    "    return sum(l) <= mud"
   ]
  },
  {
   "cell_type": "code",
   "execution_count": 358,
   "metadata": {
    "ExecuteTime": {
     "end_time": "2018-01-27T19:25:38.932620Z",
     "start_time": "2018-01-27T19:25:38.922960Z"
    }
   },
   "outputs": [
    {
     "data": {
      "text/plain": [
       "'0b1100100'"
      ]
     },
     "execution_count": 358,
     "metadata": {},
     "output_type": "execute_result"
    }
   ],
   "source": [
    "# test system for MUDDY PROOFS\n",
    "# because we're using binary strings, we can use binary numbers to generate strings\n",
    "# wow we're so smart\n",
    "bin(100)"
   ]
  },
  {
   "cell_type": "code",
   "execution_count": 359,
   "metadata": {
    "ExecuteTime": {
     "end_time": "2018-01-27T19:25:42.004312Z",
     "start_time": "2018-01-27T19:25:42.000711Z"
    }
   },
   "outputs": [
    {
     "data": {
      "text/plain": [
       "'0b0'"
      ]
     },
     "execution_count": 359,
     "metadata": {},
     "output_type": "execute_result"
    }
   ],
   "source": [
    "bin(0)"
   ]
  },
  {
   "cell_type": "code",
   "execution_count": 360,
   "metadata": {
    "ExecuteTime": {
     "end_time": "2018-01-27T19:25:44.654369Z",
     "start_time": "2018-01-27T19:25:44.650211Z"
    }
   },
   "outputs": [
    {
     "data": {
      "text/plain": [
       "'0b1'"
      ]
     },
     "execution_count": 360,
     "metadata": {},
     "output_type": "execute_result"
    }
   ],
   "source": [
    "bin(1)"
   ]
  },
  {
   "cell_type": "code",
   "execution_count": 361,
   "metadata": {
    "ExecuteTime": {
     "end_time": "2018-01-27T19:26:10.789420Z",
     "start_time": "2018-01-27T19:26:10.787026Z"
    }
   },
   "outputs": [],
   "source": [
    "# chances of getting 0 are near impossible so we cut off the first digit"
   ]
  },
  {
   "cell_type": "code",
   "execution_count": 362,
   "metadata": {
    "ExecuteTime": {
     "end_time": "2018-01-27T19:26:32.656213Z",
     "start_time": "2018-01-27T19:26:32.651340Z"
    }
   },
   "outputs": [
    {
     "data": {
      "text/plain": [
       "1024"
      ]
     },
     "execution_count": 362,
     "metadata": {},
     "output_type": "execute_result"
    }
   ],
   "source": [
    "2**10"
   ]
  },
  {
   "cell_type": "code",
   "execution_count": 364,
   "metadata": {
    "ExecuteTime": {
     "end_time": "2018-01-27T19:26:51.385630Z",
     "start_time": "2018-01-27T19:26:51.381121Z"
    }
   },
   "outputs": [
    {
     "data": {
      "text/plain": [
       "10"
      ]
     },
     "execution_count": 364,
     "metadata": {},
     "output_type": "execute_result"
    }
   ],
   "source": [
    "len(bin(2**10)[3:]) # oh shit"
   ]
  },
  {
   "cell_type": "code",
   "execution_count": 375,
   "metadata": {
    "ExecuteTime": {
     "end_time": "2018-01-27T19:32:28.561543Z",
     "start_time": "2018-01-27T19:32:28.553222Z"
    }
   },
   "outputs": [],
   "source": [
    "def all_possible_proof_strings(difficulty=10):\n",
    "    possible_proofs = []\n",
    "    for x in range(2**difficulty):\n",
    "        proof_string = bin(x)\n",
    "        while len(proof_string) < 3 + difficulty:\n",
    "            proof_string = proof_string + '0'\n",
    "        possible_proofs.append(proof_string[3:])\n",
    "    return list(set(possible_proofs))"
   ]
  },
  {
   "cell_type": "code",
   "execution_count": 379,
   "metadata": {
    "ExecuteTime": {
     "end_time": "2018-01-27T19:33:54.412994Z",
     "start_time": "2018-01-27T19:33:54.406582Z"
    }
   },
   "outputs": [],
   "source": [
    "satisfied = []\n",
    "for proof in all_possible_proof_strings():\n",
    "    satisfied.append(string_satisfies_mud(proof))"
   ]
  },
  {
   "cell_type": "code",
   "execution_count": 386,
   "metadata": {
    "ExecuteTime": {
     "end_time": "2018-01-27T19:35:28.303476Z",
     "start_time": "2018-01-27T19:35:28.298781Z"
    }
   },
   "outputs": [
    {
     "name": "stdout",
     "output_type": "stream",
     "text": [
      "8.984375% increase success potential over unmuddied proof\n"
     ]
    }
   ],
   "source": [
    "print('{}% increase success potential over unmuddied proof'.format(sum(satisfied) / len(satisfied) * 100))"
   ]
  },
  {
   "cell_type": "code",
   "execution_count": 395,
   "metadata": {
    "ExecuteTime": {
     "end_time": "2018-01-27T19:43:33.609949Z",
     "start_time": "2018-01-27T19:43:33.600726Z"
    }
   },
   "outputs": [],
   "source": [
    "# now shit gets hard.\n",
    "# plot the increase in success potential over unmuddied proof and then try to create a linear relationship\n",
    "# ugg\n",
    "# mud can only be as large as the difficulty such that difficulty = 10, mud = 9.\n",
    "# create a method to come up with the tuple pairs of difficulties and mud\n",
    "def generate_mud_pairs(max_difficulty = 10):\n",
    "    combos = []\n",
    "    for x in range(max_difficulty):\n",
    "        for y in range(x):\n",
    "            combos.append((x, y))\n",
    "    return combos"
   ]
  },
  {
   "cell_type": "code",
   "execution_count": 459,
   "metadata": {
    "ExecuteTime": {
     "end_time": "2018-01-27T20:13:49.868581Z",
     "start_time": "2018-01-27T20:13:49.857422Z"
    }
   },
   "outputs": [
    {
     "name": "stdout",
     "output_type": "stream",
     "text": [
      "[(1, 0),\n",
      " (2, 0),\n",
      " (2, 1),\n",
      " (3, 0),\n",
      " (3, 1),\n",
      " (3, 2),\n",
      " (4, 0),\n",
      " (4, 1),\n",
      " (4, 2),\n",
      " (4, 3),\n",
      " (5, 0),\n",
      " (5, 1),\n",
      " (5, 2),\n",
      " (5, 3),\n",
      " (5, 4),\n",
      " (6, 0),\n",
      " (6, 1),\n",
      " (6, 2),\n",
      " (6, 3),\n",
      " (6, 4),\n",
      " (6, 5),\n",
      " (7, 0),\n",
      " (7, 1),\n",
      " (7, 2),\n",
      " (7, 3),\n",
      " (7, 4),\n",
      " (7, 5),\n",
      " (7, 6),\n",
      " (8, 0),\n",
      " (8, 1),\n",
      " (8, 2),\n",
      " (8, 3),\n",
      " (8, 4),\n",
      " (8, 5),\n",
      " (8, 6),\n",
      " (8, 7),\n",
      " (9, 0),\n",
      " (9, 1),\n",
      " (9, 2),\n",
      " (9, 3),\n",
      " (9, 4),\n",
      " (9, 5),\n",
      " (9, 6),\n",
      " (9, 7),\n",
      " (9, 8),\n",
      " (10, 0),\n",
      " (10, 1),\n",
      " (10, 2),\n",
      " (10, 3),\n",
      " (10, 4),\n",
      " (10, 5),\n",
      " (10, 6),\n",
      " (10, 7),\n",
      " (10, 8),\n",
      " (10, 9)]\n"
     ]
    }
   ],
   "source": [
    "pprint(generate_mud_pairs(max_difficulty=11))"
   ]
  },
  {
   "cell_type": "code",
   "execution_count": 469,
   "metadata": {
    "ExecuteTime": {
     "end_time": "2018-01-27T20:15:23.313866Z",
     "start_time": "2018-01-27T20:15:23.302414Z"
    }
   },
   "outputs": [
    {
     "name": "stdout",
     "output_type": "stream",
     "text": [
      "0.08984375\n"
     ]
    }
   ],
   "source": [
    "mud = 2\n",
    "satisfied = []\n",
    "for proof in all_possible_proof_strings(difficulty=10):\n",
    "    satisfied.append(sum([int(ss) for ss in proof]) <= mud)\n",
    "print(sum(satisfied)/len(satisfied))"
   ]
  },
  {
   "cell_type": "code",
   "execution_count": 473,
   "metadata": {
    "ExecuteTime": {
     "end_time": "2018-01-27T20:15:38.846270Z",
     "start_time": "2018-01-27T20:15:38.780486Z"
    }
   },
   "outputs": [],
   "source": [
    "percentages = []\n",
    "for p in generate_mud_pairs(max_difficulty=11):\n",
    "    mud = p[1]\n",
    "    satisfied = []\n",
    "    for proof in all_possible_proof_strings(difficulty=p[0]):\n",
    "        satisfied.append(sum([int(ss) for ss in proof]) <= mud)\n",
    "    percentages.append((sum(satisfied)/len(satisfied), p))"
   ]
  },
  {
   "cell_type": "code",
   "execution_count": 474,
   "metadata": {
    "ExecuteTime": {
     "end_time": "2018-01-27T20:15:39.086153Z",
     "start_time": "2018-01-27T20:15:39.080971Z"
    }
   },
   "outputs": [
    {
     "name": "stdout",
     "output_type": "stream",
     "text": [
      "None\n"
     ]
    }
   ],
   "source": [
    "print(percentages.sort()) #:("
   ]
  },
  {
   "cell_type": "code",
   "execution_count": 475,
   "metadata": {
    "ExecuteTime": {
     "end_time": "2018-01-27T20:15:39.660202Z",
     "start_time": "2018-01-27T20:15:39.652002Z"
    }
   },
   "outputs": [
    {
     "data": {
      "text/plain": [
       "[(0.001953125, (10, 0)),\n",
       " (0.00390625, (9, 0)),\n",
       " (0.0078125, (8, 0)),\n",
       " (0.015625, (7, 0)),\n",
       " (0.01953125, (10, 1)),\n",
       " (0.03125, (6, 0)),\n",
       " (0.03515625, (9, 1)),\n",
       " (0.0625, (5, 0)),\n",
       " (0.0625, (8, 1)),\n",
       " (0.08984375, (10, 2)),\n",
       " (0.109375, (7, 1)),\n",
       " (0.125, (4, 0)),\n",
       " (0.14453125, (9, 2)),\n",
       " (0.1875, (6, 1)),\n",
       " (0.2265625, (8, 2)),\n",
       " (0.25, (3, 0)),\n",
       " (0.25390625, (10, 3)),\n",
       " (0.3125, (5, 1)),\n",
       " (0.34375, (7, 2)),\n",
       " (0.36328125, (9, 3)),\n",
       " (0.5, (2, 0)),\n",
       " (0.5, (4, 1)),\n",
       " (0.5, (6, 2)),\n",
       " (0.5, (8, 3)),\n",
       " (0.5, (10, 4)),\n",
       " (0.63671875, (9, 4)),\n",
       " (0.65625, (7, 3)),\n",
       " (0.6875, (5, 2)),\n",
       " (0.74609375, (10, 5)),\n",
       " (0.75, (3, 1)),\n",
       " (0.7734375, (8, 4)),\n",
       " (0.8125, (6, 3)),\n",
       " (0.85546875, (9, 5)),\n",
       " (0.875, (4, 2)),\n",
       " (0.890625, (7, 4)),\n",
       " (0.91015625, (10, 6)),\n",
       " (0.9375, (5, 3)),\n",
       " (0.9375, (8, 5)),\n",
       " (0.96484375, (9, 6)),\n",
       " (0.96875, (6, 4)),\n",
       " (0.98046875, (10, 7)),\n",
       " (0.984375, (7, 5)),\n",
       " (0.9921875, (8, 6)),\n",
       " (0.99609375, (9, 7)),\n",
       " (0.998046875, (10, 8)),\n",
       " (1.0, (1, 0)),\n",
       " (1.0, (2, 1)),\n",
       " (1.0, (3, 2)),\n",
       " (1.0, (4, 3)),\n",
       " (1.0, (5, 4)),\n",
       " (1.0, (6, 5)),\n",
       " (1.0, (7, 6)),\n",
       " (1.0, (8, 7)),\n",
       " (1.0, (9, 8)),\n",
       " (1.0, (10, 9))]"
      ]
     },
     "execution_count": 475,
     "metadata": {},
     "output_type": "execute_result"
    }
   ],
   "source": [
    "percentages"
   ]
  },
  {
   "cell_type": "code",
   "execution_count": 465,
   "metadata": {
    "ExecuteTime": {
     "end_time": "2018-01-27T20:14:14.973666Z",
     "start_time": "2018-01-27T20:14:14.799057Z"
    }
   },
   "outputs": [
    {
     "data": {
      "image/png": "[encoded data removed]",
      "text/plain": [
       "<matplotlib.figure.Figure at 0x1098f1c18>"
      ]
     },
     "metadata": {},
     "output_type": "display_data"
    }
   ],
   "source": [
    "fig = plt.figure()\n",
    "fig.suptitle('Success rate of random proofs', fontsize=20)\n",
    "plt.ylabel('% success / 100', fontsize=18)\n",
    "plt.plot(list(reversed([x[0] for x in percentages])))\n",
    "plt.show()"
   ]
  },
  {
   "cell_type": "code",
   "execution_count": 449,
   "metadata": {
    "ExecuteTime": {
     "end_time": "2018-01-27T20:07:54.861226Z",
     "start_time": "2018-01-27T20:07:54.852800Z"
    }
   },
   "outputs": [],
   "source": [
    "def generate_percentages(total=16):\n",
    "    percentages = []\n",
    "    for p in generate_mud_pairs(max_difficulty=total):\n",
    "        mud = p[1]\n",
    "        satisfied = []\n",
    "        for proof in all_possible_proof_strings(difficulty=p[0]):\n",
    "            satisfied.append(sum([int(ss) for ss in proof]) <= mud)\n",
    "        percentages.append((sum(satisfied)/len(satisfied), p))\n",
    "    return percentages"
   ]
  },
  {
   "cell_type": "code",
   "execution_count": 450,
   "metadata": {
    "ExecuteTime": {
     "end_time": "2018-01-27T20:07:58.631564Z",
     "start_time": "2018-01-27T20:07:55.328453Z"
    }
   },
   "outputs": [],
   "source": [
    "p = generate_percentages()"
   ]
  },
  {
   "cell_type": "code",
   "execution_count": 451,
   "metadata": {
    "ExecuteTime": {
     "end_time": "2018-01-27T20:08:32.722500Z",
     "start_time": "2018-01-27T20:08:32.535446Z"
    }
   },
   "outputs": [
    {
     "data": {
      "image/png": "[encoded data removed]",
      "text/plain": [
       "<matplotlib.figure.Figure at 0x109beeda0>"
      ]
     },
     "metadata": {},
     "output_type": "display_data"
    }
   ],
   "source": [
    "p.sort()\n",
    "fig = plt.figure()\n",
    "fig.suptitle('Success rate of random proofs', fontsize=20)\n",
    "plt.ylabel('% success / 100', fontsize=18)\n",
    "plt.plot(list(reversed([x[0] for x in p])))\n",
    "plt.show()"
   ]
  },
  {
   "cell_type": "code",
   "execution_count": 486,
   "metadata": {
    "ExecuteTime": {
     "end_time": "2018-01-27T20:21:04.422912Z",
     "start_time": "2018-01-27T20:21:04.416348Z"
    }
   },
   "outputs": [],
   "source": [
    "# how long does one proof generation take?\n",
    "def difficulty_ten():\n",
    "    payload = secrets.token_bytes()\n",
    "    t_1 = current_milli_time()\n",
    "    p = POW(gen_nonce, dyno_proof_satisfied)\n",
    "    p.find(payload)\n",
    "    t_2 = current_milli_time()\n",
    "    return t_2 - t_1"
   ]
  },
  {
   "cell_type": "code",
   "execution_count": 476,
   "metadata": {
    "ExecuteTime": {
     "end_time": "2018-01-27T20:15:55.467393Z",
     "start_time": "2018-01-27T20:15:55.463434Z"
    }
   },
   "outputs": [
    {
     "data": {
      "text/plain": [
       "0.1953125"
      ]
     },
     "execution_count": 476,
     "metadata": {},
     "output_type": "execute_result"
    }
   ],
   "source": [
    "0.001953125 * 100"
   ]
  },
  {
   "cell_type": "code",
   "execution_count": 481,
   "metadata": {
    "ExecuteTime": {
     "end_time": "2018-01-27T20:18:28.573265Z",
     "start_time": "2018-01-27T20:18:28.570692Z"
    }
   },
   "outputs": [],
   "source": [
    "time_per_single_calculation = 403 / (1/0.001953125)"
   ]
  },
  {
   "cell_type": "code",
   "execution_count": 484,
   "metadata": {
    "ExecuteTime": {
     "end_time": "2018-01-27T20:19:08.287508Z",
     "start_time": "2018-01-27T20:19:08.282478Z"
    }
   },
   "outputs": [
    {
     "data": {
      "text/plain": [
       "'0.787109375 milliseconds per proof generation and test'"
      ]
     },
     "execution_count": 484,
     "metadata": {},
     "output_type": "execute_result"
    }
   ],
   "source": [
    "str(time_per_single_calculation) + ' milliseconds per proof generation and test'"
   ]
  },
  {
   "cell_type": "code",
   "execution_count": 504,
   "metadata": {
    "ExecuteTime": {
     "end_time": "2018-01-27T20:21:56.153171Z",
     "start_time": "2018-01-27T20:21:55.845607Z"
    }
   },
   "outputs": [
    {
     "name": "stdout",
     "output_type": "stream",
     "text": [
      "0.2958984375\n"
     ]
    }
   ],
   "source": [
    "# consumer grade hardware defined as 2015 macbook pro\n",
    "TIME_TO_COMPLETE_DIFFICULTY_TEN = difficulty_ten()\n",
    "CONSUMER_HASH_TIME = TIME_TO_COMPLETE_DIFFICULTY_TEN / 2**10\n",
    "print(CONSUMER_HASH_TIME)"
   ]
  },
  {
   "cell_type": "code",
   "execution_count": 508,
   "metadata": {
    "ExecuteTime": {
     "end_time": "2018-01-27T20:23:45.991180Z",
     "start_time": "2018-01-27T20:23:27.186324Z"
    }
   },
   "outputs": [
    {
     "name": "stdout",
     "output_type": "stream",
     "text": [
      "0\n",
      "1\n",
      "2\n",
      "3\n",
      "4\n",
      "5\n",
      "6\n",
      "7\n",
      "8\n",
      "9\n",
      "10\n",
      "11\n",
      "12\n",
      "13\n",
      "14\n",
      "15\n",
      "16\n",
      "17\n",
      "18\n",
      "19\n",
      "20\n",
      "21\n",
      "22\n",
      "23\n",
      "24\n",
      "25\n",
      "26\n",
      "27\n",
      "28\n",
      "29\n",
      "30\n",
      "31\n",
      "32\n",
      "33\n",
      "34\n",
      "35\n",
      "36\n",
      "37\n",
      "38\n",
      "39\n",
      "40\n",
      "41\n",
      "42\n",
      "43\n",
      "44\n",
      "45\n",
      "46\n",
      "47\n",
      "48\n",
      "49\n",
      "50\n",
      "51\n",
      "52\n",
      "53\n",
      "54\n",
      "55\n",
      "56\n",
      "57\n",
      "58\n",
      "59\n",
      "60\n",
      "61\n",
      "62\n",
      "63\n",
      "64\n",
      "65\n",
      "66\n",
      "67\n",
      "68\n",
      "69\n",
      "70\n",
      "71\n",
      "72\n",
      "73\n",
      "74\n",
      "75\n",
      "76\n",
      "77\n",
      "78\n",
      "79\n",
      "80\n",
      "81\n",
      "82\n",
      "83\n",
      "84\n",
      "85\n",
      "86\n",
      "87\n",
      "88\n",
      "89\n",
      "90\n",
      "91\n",
      "92\n",
      "93\n",
      "94\n",
      "95\n",
      "96\n",
      "97\n",
      "98\n",
      "99\n"
     ]
    }
   ],
   "source": [
    "xx = []\n",
    "for x in range(100):\n",
    "    print(x)\n",
    "    xx.append(difficulty_ten() / 2**10)"
   ]
  },
  {
   "cell_type": "code",
   "execution_count": 509,
   "metadata": {
    "ExecuteTime": {
     "end_time": "2018-01-27T20:23:48.215080Z",
     "start_time": "2018-01-27T20:23:48.210471Z"
    }
   },
   "outputs": [
    {
     "data": {
      "text/plain": [
       "0.183369140625"
      ]
     },
     "execution_count": 509,
     "metadata": {},
     "output_type": "execute_result"
    }
   ],
   "source": [
    "sum(xx) / len(xx)"
   ]
  },
  {
   "cell_type": "code",
   "execution_count": 511,
   "metadata": {
    "ExecuteTime": {
     "end_time": "2018-01-27T20:38:44.678841Z",
     "start_time": "2018-01-27T20:38:44.671851Z"
    }
   },
   "outputs": [],
   "source": [
    "# how am i getting these numbers?\n",
    "\n",
    "# 1 / 2**difficulty = average percentage of pure success because only one in 512 will solve the puzzle assuming\n",
    "# difficulty = 10\n",
    "\n",
    "# 512 therefore is the average number of random hashes that it will take to solve the puzzle on average. however,\n",
    "# this always depends because its random\n",
    "# we compute and time the average time it takes to complete a puzzle with difficulty 10\n",
    "# we then take that time in milliseconds and divide it by the average number of hashes it takes to complete\n",
    "# the puzzle. however, this gives inconsistent results because the theoretical average and what pops out of the \n",
    "# computer in terms of time is variable. so, we take many samples and average them to get a basic idea of about\n",
    "# how long it takes. this yields the amount of time it takes per hash on a macbook pro 2015.\n",
    "\n",
    "# who cares?\n",
    "# now we can take this number and start to form an additional variable. we want to be able to define how long a \n",
    "# puzzle should take based on how large the payload is. these are variables that could be added into the chain's\n",
    "# governance model (ooo la la)\n",
    "\n",
    "# for example, we're okay with 1kb being added to the chain every 1 second.\n",
    "# thus, we need an algo that fixes the puzzle at that. but then we need some sort of 'curve.'\n",
    "# are we cool with 2kb every 2 seconds? if so, then we need to find what muddy proofs and pure\n",
    "# proofs make for the average time to be around 1 second and bind it to the payload size\n",
    "\n",
    "\n",
    "# CONSTANT_CONSUMER_HASH_TIME = 0.183369140625\n",
    "\n",
    "# parameters would be... time per byte? time per kilobyte? something like that?"
   ]
  },
  {
   "cell_type": "code",
   "execution_count": 512,
   "metadata": {
    "ExecuteTime": {
     "end_time": "2018-01-27T20:38:47.679104Z",
     "start_time": "2018-01-27T20:38:47.675168Z"
    }
   },
   "outputs": [
    {
     "data": {
      "text/plain": [
       "(10, 9)"
      ]
     },
     "execution_count": 512,
     "metadata": {},
     "output_type": "execute_result"
    }
   ],
   "source": [
    "p"
   ]
  },
  {
   "cell_type": "code",
   "execution_count": 516,
   "metadata": {
    "ExecuteTime": {
     "end_time": "2018-01-27T20:40:20.998601Z",
     "start_time": "2018-01-27T20:40:03.959123Z"
    }
   },
   "outputs": [],
   "source": [
    "pp = generate_percentages(total=18)"
   ]
  },
  {
   "cell_type": "code",
   "execution_count": 517,
   "metadata": {
    "ExecuteTime": {
     "end_time": "2018-01-27T20:40:21.021226Z",
     "start_time": "2018-01-27T20:40:21.001211Z"
    }
   },
   "outputs": [
    {
     "data": {
      "text/plain": [
       "[(1.52587890625e-05, (17, 0)),\n",
       " (3.0517578125e-05, (16, 0)),\n",
       " (6.103515625e-05, (15, 0)),\n",
       " (0.0001220703125, (14, 0)),\n",
       " (0.000244140625, (13, 0)),\n",
       " (0.0002593994140625, (17, 1)),\n",
       " (0.00048828125, (12, 0)),\n",
       " (0.00048828125, (16, 1)),\n",
       " (0.00091552734375, (15, 1)),\n",
       " (0.0009765625, (11, 0)),\n",
       " (0.001708984375, (14, 1)),\n",
       " (0.001953125, (10, 0)),\n",
       " (0.0020904541015625, (17, 2)),\n",
       " (0.003173828125, (13, 1)),\n",
       " (0.003692626953125, (16, 2)),\n",
       " (0.00390625, (9, 0)),\n",
       " (0.005859375, (12, 1)),\n",
       " (0.0064697265625, (15, 2)),\n",
       " (0.0078125, (8, 0)),\n",
       " (0.0106353759765625, (17, 3)),\n",
       " (0.0107421875, (11, 1)),\n",
       " (0.01123046875, (14, 2)),\n",
       " (0.015625, (7, 0)),\n",
       " (0.017578125, (16, 3)),\n",
       " (0.019287109375, (13, 2)),\n",
       " (0.01953125, (10, 1)),\n",
       " (0.0286865234375, (15, 3)),\n",
       " (0.03125, (6, 0)),\n",
       " (0.03271484375, (12, 2)),\n",
       " (0.03515625, (9, 1)),\n",
       " (0.0384063720703125, (17, 4)),\n",
       " (0.046142578125, (14, 3)),\n",
       " (0.0546875, (11, 2)),\n",
       " (0.059234619140625, (16, 4)),\n",
       " (0.0625, (5, 0)),\n",
       " (0.0625, (8, 1)),\n",
       " (0.072998046875, (13, 3)),\n",
       " (0.08978271484375, (15, 4)),\n",
       " (0.08984375, (10, 2)),\n",
       " (0.1050567626953125, (17, 5)),\n",
       " (0.109375, (7, 1)),\n",
       " (0.11328125, (12, 3)),\n",
       " (0.125, (4, 0)),\n",
       " (0.1334228515625, (14, 4)),\n",
       " (0.14453125, (9, 2)),\n",
       " (0.15087890625, (16, 5)),\n",
       " (0.171875, (11, 3)),\n",
       " (0.1875, (6, 1)),\n",
       " (0.19384765625, (13, 4)),\n",
       " (0.21197509765625, (15, 5)),\n",
       " (0.2265625, (8, 2)),\n",
       " (0.2272491455078125, (17, 6)),\n",
       " (0.25, (3, 0)),\n",
       " (0.25390625, (10, 3)),\n",
       " (0.2744140625, (12, 4)),\n",
       " (0.29052734375, (14, 5)),\n",
       " (0.303619384765625, (16, 6)),\n",
       " (0.3125, (5, 1)),\n",
       " (0.34375, (7, 2)),\n",
       " (0.36328125, (9, 3)),\n",
       " (0.376953125, (11, 4)),\n",
       " (0.38720703125, (13, 5)),\n",
       " (0.395263671875, (15, 6)),\n",
       " (0.4018096923828125, (17, 7)),\n",
       " (0.5, (2, 0)),\n",
       " (0.5, (4, 1)),\n",
       " (0.5, (6, 2)),\n",
       " (0.5, (8, 3)),\n",
       " (0.5, (10, 4)),\n",
       " (0.5, (12, 5)),\n",
       " (0.5, (14, 6)),\n",
       " (0.5, (16, 7)),\n",
       " (0.5981903076171875, (17, 8)),\n",
       " (0.604736328125, (15, 7)),\n",
       " (0.61279296875, (13, 6)),\n",
       " (0.623046875, (11, 5)),\n",
       " (0.63671875, (9, 4)),\n",
       " (0.65625, (7, 3)),\n",
       " (0.6875, (5, 2)),\n",
       " (0.696380615234375, (16, 8)),\n",
       " (0.70947265625, (14, 7)),\n",
       " (0.7255859375, (12, 6)),\n",
       " (0.74609375, (10, 5)),\n",
       " (0.75, (3, 1)),\n",
       " (0.7727508544921875, (17, 9)),\n",
       " (0.7734375, (8, 4)),\n",
       " (0.78802490234375, (15, 8)),\n",
       " (0.80615234375, (13, 7)),\n",
       " (0.8125, (6, 3)),\n",
       " (0.828125, (11, 6)),\n",
       " (0.84912109375, (16, 9)),\n",
       " (0.85546875, (9, 5)),\n",
       " (0.8665771484375, (14, 8)),\n",
       " (0.875, (4, 2)),\n",
       " (0.88671875, (12, 7)),\n",
       " (0.890625, (7, 4)),\n",
       " (0.8949432373046875, (17, 10)),\n",
       " (0.91015625, (10, 6)),\n",
       " (0.91021728515625, (15, 9)),\n",
       " (0.927001953125, (13, 8)),\n",
       " (0.9375, (5, 3)),\n",
       " (0.9375, (8, 5)),\n",
       " (0.940765380859375, (16, 10)),\n",
       " (0.9453125, (11, 7)),\n",
       " (0.953857421875, (14, 9)),\n",
       " (0.9615936279296875, (17, 11)),\n",
       " (0.96484375, (9, 6)),\n",
       " (0.96728515625, (12, 8)),\n",
       " (0.96875, (6, 4)),\n",
       " (0.9713134765625, (15, 10)),\n",
       " (0.98046875, (10, 7)),\n",
       " (0.980712890625, (13, 9)),\n",
       " (0.982421875, (16, 11)),\n",
       " (0.984375, (7, 5)),\n",
       " (0.98876953125, (14, 10)),\n",
       " (0.9892578125, (11, 8)),\n",
       " (0.9893646240234375, (17, 12)),\n",
       " (0.9921875, (8, 6)),\n",
       " (0.9935302734375, (15, 11)),\n",
       " (0.994140625, (12, 9)),\n",
       " (0.99609375, (9, 7)),\n",
       " (0.996307373046875, (16, 12)),\n",
       " (0.996826171875, (13, 10)),\n",
       " (0.9979095458984375, (17, 13)),\n",
       " (0.998046875, (10, 8)),\n",
       " (0.998291015625, (14, 11)),\n",
       " (0.9990234375, (11, 9)),\n",
       " (0.99908447265625, (15, 12)),\n",
       " (0.99951171875, (12, 10)),\n",
       " (0.99951171875, (16, 13)),\n",
       " (0.9997406005859375, (17, 14)),\n",
       " (0.999755859375, (13, 11)),\n",
       " (0.9998779296875, (14, 12)),\n",
       " (0.99993896484375, (15, 13)),\n",
       " (0.999969482421875, (16, 14)),\n",
       " (0.9999847412109375, (17, 15)),\n",
       " (1.0, (1, 0)),\n",
       " (1.0, (2, 1)),\n",
       " (1.0, (3, 2)),\n",
       " (1.0, (4, 3)),\n",
       " (1.0, (5, 4)),\n",
       " (1.0, (6, 5)),\n",
       " (1.0, (7, 6)),\n",
       " (1.0, (8, 7)),\n",
       " (1.0, (9, 8)),\n",
       " (1.0, (10, 9)),\n",
       " (1.0, (11, 10)),\n",
       " (1.0, (12, 11)),\n",
       " (1.0, (13, 12)),\n",
       " (1.0, (14, 13)),\n",
       " (1.0, (15, 14)),\n",
       " (1.0, (16, 15)),\n",
       " (1.0, (17, 16))]"
      ]
     },
     "execution_count": 517,
     "metadata": {},
     "output_type": "execute_result"
    }
   ],
   "source": [
    "pp.sort()\n",
    "pp"
   ]
  },
  {
   "cell_type": "code",
   "execution_count": 518,
   "metadata": {
    "ExecuteTime": {
     "end_time": "2018-01-27T20:40:48.511735Z",
     "start_time": "2018-01-27T20:40:48.504911Z"
    }
   },
   "outputs": [
    {
     "data": {
      "text/plain": [
       "[(1.52587890625e-05, (17, 0)),\n",
       " (3.0517578125e-05, (16, 0)),\n",
       " (6.103515625e-05, (15, 0)),\n",
       " (0.0001220703125, (14, 0)),\n",
       " (0.000244140625, (13, 0)),\n",
       " (0.0002593994140625, (17, 1)),\n",
       " (0.00048828125, (12, 0)),\n",
       " (0.00048828125, (16, 1)),\n",
       " (0.00091552734375, (15, 1)),\n",
       " (0.0009765625, (11, 0)),\n",
       " (0.001708984375, (14, 1)),\n",
       " (0.001953125, (10, 0)),\n",
       " (0.0020904541015625, (17, 2)),\n",
       " (0.003173828125, (13, 1)),\n",
       " (0.003692626953125, (16, 2)),\n",
       " (0.00390625, (9, 0)),\n",
       " (0.005859375, (12, 1)),\n",
       " (0.0064697265625, (15, 2)),\n",
       " (0.0078125, (8, 0)),\n",
       " (0.0106353759765625, (17, 3)),\n",
       " (0.0107421875, (11, 1)),\n",
       " (0.01123046875, (14, 2)),\n",
       " (0.015625, (7, 0)),\n",
       " (0.017578125, (16, 3)),\n",
       " (0.019287109375, (13, 2))]"
      ]
     },
     "execution_count": 518,
     "metadata": {},
     "output_type": "execute_result"
    }
   ],
   "source": [
    "pp[:25]"
   ]
  },
  {
   "cell_type": "code",
   "execution_count": 532,
   "metadata": {
    "ExecuteTime": {
     "end_time": "2018-01-27T20:53:27.126821Z",
     "start_time": "2018-01-27T20:53:26.893806Z"
    }
   },
   "outputs": [
    {
     "data": {
      "image/png": "[encoded data removed]",
      "text/plain": [
       "<matplotlib.figure.Figure at 0x1098da1d0>"
      ]
     },
     "metadata": {},
     "output_type": "display_data"
    },
    {
     "name": "stdout",
     "output_type": "stream",
     "text": [
      "[77568.0, 38784.0, 19392.0, 9696.0, 4848.0, 4082.5263157894733, 2424.0, 2154.6666666666665, 1212.0, 1140.7058823529412, 606.0, 606.0, 450.9767441860465, 323.2, 303.0, 251.84415584415586, 173.14285714285714, 151.5, 141.54744525547446, 93.23076923076924, 80.13223140495867, 78.51012145748987, 75.75, 50.5, 46.50359712230215]\n"
     ]
    }
   ],
   "source": [
    "plt.plot([CONSUMER_HASH_TIME * (1/p[0]) for p in pp[:25]])\n",
    "plt.show()\n",
    "print([CONSUMER_HASH_TIME * (1/p[0]) for p in pp[:25]])"
   ]
  },
  {
   "cell_type": "code",
   "execution_count": 521,
   "metadata": {
    "ExecuteTime": {
     "end_time": "2018-01-27T20:43:55.192899Z",
     "start_time": "2018-01-27T20:42:33.103556Z"
    }
   },
   "outputs": [],
   "source": [
    "pp = generate_percentages(total=20)"
   ]
  },
  {
   "cell_type": "code",
   "execution_count": 531,
   "metadata": {
    "ExecuteTime": {
     "end_time": "2018-01-27T20:51:19.442574Z",
     "start_time": "2018-01-27T20:51:19.437662Z"
    }
   },
   "outputs": [
    {
     "data": {
      "text/plain": [
       "[0.0,\n",
       " 0.0,\n",
       " 0.0,\n",
       " 0.0,\n",
       " 0.0,\n",
       " 0.05263157894736842,\n",
       " 0.0,\n",
       " 0.05555555555555555,\n",
       " 0.0,\n",
       " 0.058823529411764705,\n",
       " 0.0,\n",
       " 0.0625,\n",
       " 0.10526315789473684,\n",
       " 0.06666666666666667,\n",
       " 0.0,\n",
       " 0.1111111111111111,\n",
       " 0.07142857142857142,\n",
       " 0.0,\n",
       " 0.11764705882352941,\n",
       " 0.07692307692307693,\n",
       " 0.125,\n",
       " 0.15789473684210525,\n",
       " 0.0,\n",
       " 0.08333333333333333,\n",
       " 0.16666666666666666,\n",
       " 0.13333333333333333,\n",
       " 0.0,\n",
       " 0.17647058823529413,\n",
       " 0.09090909090909091,\n",
       " 0.14285714285714285,\n",
       " 0.21052631578947367,\n",
       " 0.0,\n",
       " 0.1875,\n",
       " 0.15384615384615385,\n",
       " 0.1,\n",
       " 0.2222222222222222,\n",
       " 0.2,\n",
       " 0.0,\n",
       " 0.16666666666666666,\n",
       " 0.1111111111111111,\n",
       " 0.23529411764705882,\n",
       " 0.21428571428571427,\n",
       " 0.2631578947368421,\n",
       " 0.18181818181818182,\n",
       " 0.25,\n",
       " 0.0,\n",
       " 0.125,\n",
       " 0.2777777777777778,\n",
       " 0.23076923076923078,\n",
       " 0.26666666666666666]"
      ]
     },
     "execution_count": 531,
     "metadata": {},
     "output_type": "execute_result"
    }
   ],
   "source": [
    "pp.sort()\n",
    "[p[1][1]/p[1][0] for p in pp][:50]"
   ]
  },
  {
   "cell_type": "code",
   "execution_count": 527,
   "metadata": {
    "ExecuteTime": {
     "end_time": "2018-01-27T20:47:09.777300Z",
     "start_time": "2018-01-27T20:47:09.770246Z"
    }
   },
   "outputs": [
    {
     "data": {
      "text/plain": [
       "[(3.814697265625e-06, (19, 0)),\n",
       " (7.62939453125e-06, (18, 0)),\n",
       " (1.52587890625e-05, (17, 0)),\n",
       " (3.0517578125e-05, (16, 0)),\n",
       " (6.103515625e-05, (15, 0)),\n",
       " (7.2479248046875e-05, (19, 1)),\n",
       " (0.0001220703125, (14, 0)),\n",
       " (0.0001373291015625, (18, 1)),\n",
       " (0.000244140625, (13, 0)),\n",
       " (0.0002593994140625, (17, 1)),\n",
       " (0.00048828125, (12, 0)),\n",
       " (0.00048828125, (16, 1)),\n",
       " (0.0006561279296875, (19, 2)),\n",
       " (0.00091552734375, (15, 1)),\n",
       " (0.0009765625, (11, 0)),\n",
       " (0.0011749267578125, (18, 2)),\n",
       " (0.001708984375, (14, 1)),\n",
       " (0.001953125, (10, 0)),\n",
       " (0.0020904541015625, (17, 2)),\n",
       " (0.003173828125, (13, 1)),\n",
       " (0.003692626953125, (16, 2)),\n",
       " (0.0037689208984375, (19, 3)),\n",
       " (0.00390625, (9, 0)),\n",
       " (0.005859375, (12, 1)),\n",
       " (0.0063629150390625, (18, 3)),\n",
       " (0.0064697265625, (15, 2)),\n",
       " (0.0078125, (8, 0)),\n",
       " (0.0106353759765625, (17, 3)),\n",
       " (0.0107421875, (11, 1)),\n",
       " (0.01123046875, (14, 2)),\n",
       " (0.01544189453125, (19, 4)),\n",
       " (0.015625, (7, 0)),\n",
       " (0.017578125, (16, 3)),\n",
       " (0.019287109375, (13, 2)),\n",
       " (0.01953125, (10, 1))]"
      ]
     },
     "execution_count": 527,
     "metadata": {},
     "output_type": "execute_result"
    }
   ],
   "source": [
    "pp[:35]"
   ]
  },
  {
   "cell_type": "code",
   "execution_count": 530,
   "metadata": {
    "ExecuteTime": {
     "end_time": "2018-01-27T20:49:58.377649Z",
     "start_time": "2018-01-27T20:49:58.370547Z"
    }
   },
   "outputs": [
    {
     "data": {
      "text/plain": [
       "[(19, 0, 0.0),\n",
       " (18, 0, 0.0),\n",
       " (17, 0, 0.0),\n",
       " (16, 0, 0.0),\n",
       " (15, 0, 0.0),\n",
       " (19, 1, 0.05263157894736842),\n",
       " (14, 0, 0.0),\n",
       " (18, 1, 0.05555555555555555),\n",
       " (13, 0, 0.0),\n",
       " (17, 1, 0.058823529411764705),\n",
       " (12, 0, 0.0),\n",
       " (16, 1, 0.0625),\n",
       " (19, 2, 0.10526315789473684),\n",
       " (15, 1, 0.06666666666666667),\n",
       " (11, 0, 0.0),\n",
       " (18, 2, 0.1111111111111111),\n",
       " (14, 1, 0.07142857142857142),\n",
       " (10, 0, 0.0),\n",
       " (17, 2, 0.11764705882352941),\n",
       " (13, 1, 0.07692307692307693),\n",
       " (16, 2, 0.125),\n",
       " (19, 3, 0.15789473684210525),\n",
       " (9, 0, 0.0),\n",
       " (12, 1, 0.08333333333333333),\n",
       " (18, 3, 0.16666666666666666),\n",
       " (15, 2, 0.13333333333333333),\n",
       " (8, 0, 0.0),\n",
       " (17, 3, 0.17647058823529413),\n",
       " (11, 1, 0.09090909090909091),\n",
       " (14, 2, 0.14285714285714285),\n",
       " (19, 4, 0.21052631578947367),\n",
       " (7, 0, 0.0),\n",
       " (16, 3, 0.1875),\n",
       " (13, 2, 0.15384615384615385),\n",
       " (10, 1, 0.1)]"
      ]
     },
     "execution_count": 530,
     "metadata": {},
     "output_type": "execute_result"
    }
   ],
   "source": [
    "# kill me\n",
    "[(pp[x][1][0], pp[x][1][1] ,pp[x][1][1]/pp[x][1][0]) for x in range(35)]"
   ]
  },
  {
   "cell_type": "code",
   "execution_count": 533,
   "metadata": {
    "ExecuteTime": {
     "end_time": "2018-01-27T21:05:29.425198Z",
     "start_time": "2018-01-27T21:05:12.589511Z"
    }
   },
   "outputs": [],
   "source": [
    "ppp = generate_percentages(total=18)"
   ]
  },
  {
   "cell_type": "code",
   "execution_count": 534,
   "metadata": {
    "ExecuteTime": {
     "end_time": "2018-01-27T21:05:29.447953Z",
     "start_time": "2018-01-27T21:05:29.427417Z"
    }
   },
   "outputs": [
    {
     "data": {
      "text/plain": [
       "[(1.0, (1, 0)),\n",
       " (0.5, (2, 0)),\n",
       " (1.0, (2, 1)),\n",
       " (0.25, (3, 0)),\n",
       " (0.75, (3, 1)),\n",
       " (1.0, (3, 2)),\n",
       " (0.125, (4, 0)),\n",
       " (0.5, (4, 1)),\n",
       " (0.875, (4, 2)),\n",
       " (1.0, (4, 3)),\n",
       " (0.0625, (5, 0)),\n",
       " (0.3125, (5, 1)),\n",
       " (0.6875, (5, 2)),\n",
       " (0.9375, (5, 3)),\n",
       " (1.0, (5, 4)),\n",
       " (0.03125, (6, 0)),\n",
       " (0.1875, (6, 1)),\n",
       " (0.5, (6, 2)),\n",
       " (0.8125, (6, 3)),\n",
       " (0.96875, (6, 4)),\n",
       " (1.0, (6, 5)),\n",
       " (0.015625, (7, 0)),\n",
       " (0.109375, (7, 1)),\n",
       " (0.34375, (7, 2)),\n",
       " (0.65625, (7, 3)),\n",
       " (0.890625, (7, 4)),\n",
       " (0.984375, (7, 5)),\n",
       " (1.0, (7, 6)),\n",
       " (0.0078125, (8, 0)),\n",
       " (0.0625, (8, 1)),\n",
       " (0.2265625, (8, 2)),\n",
       " (0.5, (8, 3)),\n",
       " (0.7734375, (8, 4)),\n",
       " (0.9375, (8, 5)),\n",
       " (0.9921875, (8, 6)),\n",
       " (1.0, (8, 7)),\n",
       " (0.00390625, (9, 0)),\n",
       " (0.03515625, (9, 1)),\n",
       " (0.14453125, (9, 2)),\n",
       " (0.36328125, (9, 3)),\n",
       " (0.63671875, (9, 4)),\n",
       " (0.85546875, (9, 5)),\n",
       " (0.96484375, (9, 6)),\n",
       " (0.99609375, (9, 7)),\n",
       " (1.0, (9, 8)),\n",
       " (0.001953125, (10, 0)),\n",
       " (0.01953125, (10, 1)),\n",
       " (0.08984375, (10, 2)),\n",
       " (0.25390625, (10, 3)),\n",
       " (0.5, (10, 4)),\n",
       " (0.74609375, (10, 5)),\n",
       " (0.91015625, (10, 6)),\n",
       " (0.98046875, (10, 7)),\n",
       " (0.998046875, (10, 8)),\n",
       " (1.0, (10, 9)),\n",
       " (0.0009765625, (11, 0)),\n",
       " (0.0107421875, (11, 1)),\n",
       " (0.0546875, (11, 2)),\n",
       " (0.171875, (11, 3)),\n",
       " (0.376953125, (11, 4)),\n",
       " (0.623046875, (11, 5)),\n",
       " (0.828125, (11, 6)),\n",
       " (0.9453125, (11, 7)),\n",
       " (0.9892578125, (11, 8)),\n",
       " (0.9990234375, (11, 9)),\n",
       " (1.0, (11, 10)),\n",
       " (0.00048828125, (12, 0)),\n",
       " (0.005859375, (12, 1)),\n",
       " (0.03271484375, (12, 2)),\n",
       " (0.11328125, (12, 3)),\n",
       " (0.2744140625, (12, 4)),\n",
       " (0.5, (12, 5)),\n",
       " (0.7255859375, (12, 6)),\n",
       " (0.88671875, (12, 7)),\n",
       " (0.96728515625, (12, 8)),\n",
       " (0.994140625, (12, 9)),\n",
       " (0.99951171875, (12, 10)),\n",
       " (1.0, (12, 11)),\n",
       " (0.000244140625, (13, 0)),\n",
       " (0.003173828125, (13, 1)),\n",
       " (0.019287109375, (13, 2)),\n",
       " (0.072998046875, (13, 3)),\n",
       " (0.19384765625, (13, 4)),\n",
       " (0.38720703125, (13, 5)),\n",
       " (0.61279296875, (13, 6)),\n",
       " (0.80615234375, (13, 7)),\n",
       " (0.927001953125, (13, 8)),\n",
       " (0.980712890625, (13, 9)),\n",
       " (0.996826171875, (13, 10)),\n",
       " (0.999755859375, (13, 11)),\n",
       " (1.0, (13, 12)),\n",
       " (0.0001220703125, (14, 0)),\n",
       " (0.001708984375, (14, 1)),\n",
       " (0.01123046875, (14, 2)),\n",
       " (0.046142578125, (14, 3)),\n",
       " (0.1334228515625, (14, 4)),\n",
       " (0.29052734375, (14, 5)),\n",
       " (0.5, (14, 6)),\n",
       " (0.70947265625, (14, 7)),\n",
       " (0.8665771484375, (14, 8)),\n",
       " (0.953857421875, (14, 9)),\n",
       " (0.98876953125, (14, 10)),\n",
       " (0.998291015625, (14, 11)),\n",
       " (0.9998779296875, (14, 12)),\n",
       " (1.0, (14, 13)),\n",
       " (6.103515625e-05, (15, 0)),\n",
       " (0.00091552734375, (15, 1)),\n",
       " (0.0064697265625, (15, 2)),\n",
       " (0.0286865234375, (15, 3)),\n",
       " (0.08978271484375, (15, 4)),\n",
       " (0.21197509765625, (15, 5)),\n",
       " (0.395263671875, (15, 6)),\n",
       " (0.604736328125, (15, 7)),\n",
       " (0.78802490234375, (15, 8)),\n",
       " (0.91021728515625, (15, 9)),\n",
       " (0.9713134765625, (15, 10)),\n",
       " (0.9935302734375, (15, 11)),\n",
       " (0.99908447265625, (15, 12)),\n",
       " (0.99993896484375, (15, 13)),\n",
       " (1.0, (15, 14)),\n",
       " (3.0517578125e-05, (16, 0)),\n",
       " (0.00048828125, (16, 1)),\n",
       " (0.003692626953125, (16, 2)),\n",
       " (0.017578125, (16, 3)),\n",
       " (0.059234619140625, (16, 4)),\n",
       " (0.15087890625, (16, 5)),\n",
       " (0.303619384765625, (16, 6)),\n",
       " (0.5, (16, 7)),\n",
       " (0.696380615234375, (16, 8)),\n",
       " (0.84912109375, (16, 9)),\n",
       " (0.940765380859375, (16, 10)),\n",
       " (0.982421875, (16, 11)),\n",
       " (0.996307373046875, (16, 12)),\n",
       " (0.99951171875, (16, 13)),\n",
       " (0.999969482421875, (16, 14)),\n",
       " (1.0, (16, 15)),\n",
       " (1.52587890625e-05, (17, 0)),\n",
       " (0.0002593994140625, (17, 1)),\n",
       " (0.0020904541015625, (17, 2)),\n",
       " (0.0106353759765625, (17, 3)),\n",
       " (0.0384063720703125, (17, 4)),\n",
       " (0.1050567626953125, (17, 5)),\n",
       " (0.2272491455078125, (17, 6)),\n",
       " (0.4018096923828125, (17, 7)),\n",
       " (0.5981903076171875, (17, 8)),\n",
       " (0.7727508544921875, (17, 9)),\n",
       " (0.8949432373046875, (17, 10)),\n",
       " (0.9615936279296875, (17, 11)),\n",
       " (0.9893646240234375, (17, 12)),\n",
       " (0.9979095458984375, (17, 13)),\n",
       " (0.9997406005859375, (17, 14)),\n",
       " (0.9999847412109375, (17, 15)),\n",
       " (1.0, (17, 16))]"
      ]
     },
     "execution_count": 534,
     "metadata": {},
     "output_type": "execute_result"
    }
   ],
   "source": [
    "ppp"
   ]
  },
  {
   "cell_type": "code",
   "execution_count": 536,
   "metadata": {
    "ExecuteTime": {
     "end_time": "2018-01-27T21:09:32.270136Z",
     "start_time": "2018-01-27T21:09:32.266450Z"
    }
   },
   "outputs": [],
   "source": [
    "import numpy as np"
   ]
  },
  {
   "cell_type": "code",
   "execution_count": 550,
   "metadata": {
    "ExecuteTime": {
     "end_time": "2018-01-27T21:13:57.497208Z",
     "start_time": "2018-01-27T21:13:57.488991Z"
    }
   },
   "outputs": [
    {
     "name": "stdout",
     "output_type": "stream",
     "text": [
      "(2,)\n",
      "(array([ 0.02069717,  0.02069717]), array([], dtype=float64), 1, array([  2.16374675e+02,   1.46016126e-14]))\n"
     ]
    }
   ],
   "source": [
    "y = np.array([p[0] for p in ppp])\n",
    "x = np.array([[p[1][0], p[1][0]] for p in ppp])\n",
    "print(x[0].shape)\n",
    "z = np.linalg.lstsq(x, y)\n",
    "print(z)"
   ]
  },
  {
   "cell_type": "code",
   "execution_count": 556,
   "metadata": {
    "ExecuteTime": {
     "end_time": "2018-01-27T21:24:25.290795Z",
     "start_time": "2018-01-27T21:24:25.275148Z"
    }
   },
   "outputs": [
    {
     "data": {
      "text/plain": [
       "[(1.52587890625e-05, (17, 0)),\n",
       " (3.0517578125e-05, (16, 0)),\n",
       " (6.103515625e-05, (15, 0)),\n",
       " (0.0001220703125, (14, 0)),\n",
       " (0.000244140625, (13, 0)),\n",
       " (0.0002593994140625, (17, 1)),\n",
       " (0.00048828125, (12, 0)),\n",
       " (0.00048828125, (16, 1)),\n",
       " (0.00091552734375, (15, 1)),\n",
       " (0.0009765625, (11, 0)),\n",
       " (0.001708984375, (14, 1)),\n",
       " (0.001953125, (10, 0)),\n",
       " (0.0020904541015625, (17, 2)),\n",
       " (0.003173828125, (13, 1)),\n",
       " (0.003692626953125, (16, 2)),\n",
       " (0.00390625, (9, 0)),\n",
       " (0.005859375, (12, 1)),\n",
       " (0.0064697265625, (15, 2)),\n",
       " (0.0078125, (8, 0)),\n",
       " (0.0106353759765625, (17, 3)),\n",
       " (0.0107421875, (11, 1)),\n",
       " (0.01123046875, (14, 2)),\n",
       " (0.015625, (7, 0)),\n",
       " (0.017578125, (16, 3)),\n",
       " (0.019287109375, (13, 2)),\n",
       " (0.01953125, (10, 1)),\n",
       " (0.0286865234375, (15, 3)),\n",
       " (0.03125, (6, 0)),\n",
       " (0.03271484375, (12, 2)),\n",
       " (0.03515625, (9, 1)),\n",
       " (0.0384063720703125, (17, 4)),\n",
       " (0.046142578125, (14, 3)),\n",
       " (0.0546875, (11, 2)),\n",
       " (0.059234619140625, (16, 4)),\n",
       " (0.0625, (5, 0)),\n",
       " (0.0625, (8, 1)),\n",
       " (0.072998046875, (13, 3)),\n",
       " (0.08978271484375, (15, 4)),\n",
       " (0.08984375, (10, 2)),\n",
       " (0.1050567626953125, (17, 5)),\n",
       " (0.109375, (7, 1)),\n",
       " (0.11328125, (12, 3)),\n",
       " (0.125, (4, 0)),\n",
       " (0.1334228515625, (14, 4)),\n",
       " (0.14453125, (9, 2)),\n",
       " (0.15087890625, (16, 5)),\n",
       " (0.171875, (11, 3)),\n",
       " (0.1875, (6, 1)),\n",
       " (0.19384765625, (13, 4)),\n",
       " (0.21197509765625, (15, 5)),\n",
       " (0.2265625, (8, 2)),\n",
       " (0.2272491455078125, (17, 6)),\n",
       " (0.25, (3, 0)),\n",
       " (0.25390625, (10, 3)),\n",
       " (0.2744140625, (12, 4)),\n",
       " (0.29052734375, (14, 5)),\n",
       " (0.303619384765625, (16, 6)),\n",
       " (0.3125, (5, 1)),\n",
       " (0.34375, (7, 2)),\n",
       " (0.36328125, (9, 3)),\n",
       " (0.376953125, (11, 4)),\n",
       " (0.38720703125, (13, 5)),\n",
       " (0.395263671875, (15, 6)),\n",
       " (0.4018096923828125, (17, 7)),\n",
       " (0.5, (2, 0)),\n",
       " (0.5, (4, 1)),\n",
       " (0.5, (6, 2)),\n",
       " (0.5, (8, 3)),\n",
       " (0.5, (10, 4)),\n",
       " (0.5, (12, 5)),\n",
       " (0.5, (14, 6)),\n",
       " (0.5, (16, 7)),\n",
       " (0.5981903076171875, (17, 8)),\n",
       " (0.604736328125, (15, 7)),\n",
       " (0.61279296875, (13, 6)),\n",
       " (0.623046875, (11, 5)),\n",
       " (0.63671875, (9, 4)),\n",
       " (0.65625, (7, 3)),\n",
       " (0.6875, (5, 2)),\n",
       " (0.696380615234375, (16, 8)),\n",
       " (0.70947265625, (14, 7)),\n",
       " (0.7255859375, (12, 6)),\n",
       " (0.74609375, (10, 5)),\n",
       " (0.75, (3, 1)),\n",
       " (0.7727508544921875, (17, 9)),\n",
       " (0.7734375, (8, 4)),\n",
       " (0.78802490234375, (15, 8)),\n",
       " (0.80615234375, (13, 7)),\n",
       " (0.8125, (6, 3)),\n",
       " (0.828125, (11, 6)),\n",
       " (0.84912109375, (16, 9)),\n",
       " (0.85546875, (9, 5)),\n",
       " (0.8665771484375, (14, 8)),\n",
       " (0.875, (4, 2)),\n",
       " (0.88671875, (12, 7)),\n",
       " (0.890625, (7, 4)),\n",
       " (0.8949432373046875, (17, 10)),\n",
       " (0.91015625, (10, 6)),\n",
       " (0.91021728515625, (15, 9)),\n",
       " (0.927001953125, (13, 8)),\n",
       " (0.9375, (5, 3)),\n",
       " (0.9375, (8, 5)),\n",
       " (0.940765380859375, (16, 10)),\n",
       " (0.9453125, (11, 7)),\n",
       " (0.953857421875, (14, 9)),\n",
       " (0.9615936279296875, (17, 11)),\n",
       " (0.96484375, (9, 6)),\n",
       " (0.96728515625, (12, 8)),\n",
       " (0.96875, (6, 4)),\n",
       " (0.9713134765625, (15, 10)),\n",
       " (0.98046875, (10, 7)),\n",
       " (0.980712890625, (13, 9)),\n",
       " (0.982421875, (16, 11)),\n",
       " (0.984375, (7, 5)),\n",
       " (0.98876953125, (14, 10)),\n",
       " (0.9892578125, (11, 8)),\n",
       " (0.9893646240234375, (17, 12)),\n",
       " (0.9921875, (8, 6)),\n",
       " (0.9935302734375, (15, 11)),\n",
       " (0.994140625, (12, 9)),\n",
       " (0.99609375, (9, 7)),\n",
       " (0.996307373046875, (16, 12)),\n",
       " (0.996826171875, (13, 10)),\n",
       " (0.9979095458984375, (17, 13)),\n",
       " (0.998046875, (10, 8)),\n",
       " (0.998291015625, (14, 11)),\n",
       " (0.9990234375, (11, 9)),\n",
       " (0.99908447265625, (15, 12)),\n",
       " (0.99951171875, (12, 10)),\n",
       " (0.99951171875, (16, 13)),\n",
       " (0.9997406005859375, (17, 14)),\n",
       " (0.999755859375, (13, 11)),\n",
       " (0.9998779296875, (14, 12)),\n",
       " (0.99993896484375, (15, 13)),\n",
       " (0.999969482421875, (16, 14)),\n",
       " (0.9999847412109375, (17, 15)),\n",
       " (1.0, (1, 0)),\n",
       " (1.0, (2, 1)),\n",
       " (1.0, (3, 2)),\n",
       " (1.0, (4, 3)),\n",
       " (1.0, (5, 4)),\n",
       " (1.0, (6, 5)),\n",
       " (1.0, (7, 6)),\n",
       " (1.0, (8, 7)),\n",
       " (1.0, (9, 8)),\n",
       " (1.0, (10, 9)),\n",
       " (1.0, (11, 10)),\n",
       " (1.0, (12, 11)),\n",
       " (1.0, (13, 12)),\n",
       " (1.0, (14, 13)),\n",
       " (1.0, (15, 14)),\n",
       " (1.0, (16, 15)),\n",
       " (1.0, (17, 16))]"
      ]
     },
     "execution_count": 556,
     "metadata": {},
     "output_type": "execute_result"
    }
   ],
   "source": [
    "ppp"
   ]
  },
  {
   "cell_type": "code",
   "execution_count": 629,
   "metadata": {
    "ExecuteTime": {
     "end_time": "2018-01-27T21:54:30.321318Z",
     "start_time": "2018-01-27T21:54:30.171297Z"
    }
   },
   "outputs": [
    {
     "data": {
      "image/png": "[encoded data removed]",
      "text/plain": [
       "<matplotlib.figure.Figure at 0x108667e10>"
      ]
     },
     "metadata": {},
     "output_type": "display_data"
    }
   ],
   "source": [
    "plt.plot([p[0] for p in ppp])\n",
    "plt.plot([0.5*np.tanh(0.04*(x-(len(ppp)/2)+7))+0.5 for x in range(len(ppp))])\n",
    "plt.show()"
   ]
  },
  {
   "cell_type": "code",
   "execution_count": 617,
   "metadata": {
    "ExecuteTime": {
     "end_time": "2018-01-27T21:49:26.741054Z",
     "start_time": "2018-01-27T21:49:26.733453Z"
    }
   },
   "outputs": [
    {
     "name": "stderr",
     "output_type": "stream",
     "text": [
      "/Library/Frameworks/Python.framework/Versions/3.6/lib/python3.6/site-packages/scipy/optimize/minpack.py:785: OptimizeWarning: Covariance of the parameters could not be estimated\n",
      "  category=OptimizeWarning)\n"
     ]
    }
   ],
   "source": [
    "from scipy.optimize import curve_fit\n",
    "def func(x, a, b, d, c):\n",
    "     return a * np.tanh(b * (x + d)) + c\n",
    "\n",
    "popt, pcov = curve_fit(func, [p[0] for p in ppp], list(range(len(ppp))),  maxfev=10000)"
   ]
  },
  {
   "cell_type": "code",
   "execution_count": 585,
   "metadata": {
    "ExecuteTime": {
     "end_time": "2018-01-27T21:43:06.513703Z",
     "start_time": "2018-01-27T21:43:06.506475Z"
    }
   },
   "outputs": [
    {
     "name": "stdout",
     "output_type": "stream",
     "text": [
      "[  1.32194063e+05   3.85437428e-01  -3.99742618e+00   1.32126648e+05]\n"
     ]
    }
   ],
   "source": [
    "print(popt)\n",
    "x_data = [p[0] for p in ppp]"
   ]
  },
  {
   "cell_type": "code",
   "execution_count": 615,
   "metadata": {
    "ExecuteTime": {
     "end_time": "2018-01-27T21:49:07.436641Z",
     "start_time": "2018-01-27T21:49:07.433114Z"
    }
   },
   "outputs": [
    {
     "name": "stdout",
     "output_type": "stream",
     "text": [
      "76.5\n"
     ]
    }
   ],
   "source": [
    "print(len(x_data)/2)"
   ]
  },
  {
   "cell_type": "code",
   "execution_count": null,
   "metadata": {},
   "outputs": [],
   "source": [
    "0.5*np.tanh(0.04*(x-(len(ppp)/2)+7))+0.5"
   ]
  }
 ],
 "metadata": {
  "kernelspec": {
   "display_name": "Python 3",
   "language": "python",
   "name": "python3"
  },
  "language_info": {
   "codemirror_mode": {
    "name": "ipython",
    "version": 3
   },
   "file_extension": ".py",
   "mimetype": "text/x-python",
   "name": "python",
   "nbconvert_exporter": "python",
   "pygments_lexer": "ipython3",
   "version": "3.6.2"
  }
 },
 "nbformat": 4,
 "nbformat_minor": 2
}
