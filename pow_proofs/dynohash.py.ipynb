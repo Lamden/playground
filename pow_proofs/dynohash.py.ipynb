{
 "cells": [
  {
   "cell_type": "code",
   "execution_count": 1,
   "metadata": {
    "ExecuteTime": {
     "end_time": "2018-01-27T07:07:00.841351Z",
     "start_time": "2018-01-27T07:07:00.833218Z"
    }
   },
   "outputs": [],
   "source": [
    "# Dynohash\n",
    "# a dynamic POW hash puzzle based on a maximum payload\n",
    "# this is to maintain low tx fees but still allow complex data to be passed around\n",
    "# the idea is that lets assume a tx max size of 1kb\n",
    "# most txs are say 100 bytes\n",
    "# if an attacker wants to spam the network, if its not 10x as hard to solve a 1kb payload, then they can do \n",
    "# much more damage.\n",
    "# thus...\n",
    "#\n",
    "# take the original hashcash idea where H(PAYLOAD + nonce) = 0x000...abc, where the number of leading 0s\n",
    "# fluctuates. this is the difficulty\n",
    "# however, in a normal hash, which is usually 64 bytes, thats only 64 degrees of difficulty granularity\n",
    "# we should smash it down into binary where each byte is 8 bits so that a 64 byte payload now has\n",
    "# 512 degrees of granularity.\n",
    "# let's just code it.\n",
    "\n",
    "import hashlib"
   ]
  },
  {
   "cell_type": "code",
   "execution_count": 2,
   "metadata": {
    "ExecuteTime": {
     "end_time": "2018-01-27T07:07:12.573173Z",
     "start_time": "2018-01-27T07:07:12.570079Z"
    }
   },
   "outputs": [],
   "source": [
    "h = hashlib.sha256()"
   ]
  },
  {
   "cell_type": "code",
   "execution_count": 3,
   "metadata": {
    "ExecuteTime": {
     "end_time": "2018-01-27T07:07:23.003869Z",
     "start_time": "2018-01-27T07:07:22.998609Z"
    }
   },
   "outputs": [],
   "source": [
    "import secrets"
   ]
  },
  {
   "cell_type": "code",
   "execution_count": 5,
   "metadata": {
    "ExecuteTime": {
     "end_time": "2018-01-27T07:07:35.815139Z",
     "start_time": "2018-01-27T07:07:35.811096Z"
    }
   },
   "outputs": [
    {
     "data": {
      "text/plain": [
       "b'm\\x97\\xd3$Nj\\x06\\x9b\\xa3\\xdb\\x8a\\x0f!\\xefD\\xf5a1\\xc4 f\\xd9\\x83D\\xba\\x7f(\\x7f24\\x04\\x9e'"
      ]
     },
     "execution_count": 5,
     "metadata": {},
     "output_type": "execute_result"
    }
   ],
   "source": [
    "secrets.token_bytes()"
   ]
  },
  {
   "cell_type": "code",
   "execution_count": 10,
   "metadata": {
    "ExecuteTime": {
     "end_time": "2018-01-27T07:10:59.639594Z",
     "start_time": "2018-01-27T07:10:59.635483Z"
    }
   },
   "outputs": [],
   "source": [
    "def byte_to_int(b):\n",
    "    x = 0\n",
    "    for bb in b:\n",
    "        x = x * 256 + int(bb)\n",
    "    return x"
   ]
  },
  {
   "cell_type": "code",
   "execution_count": 11,
   "metadata": {
    "ExecuteTime": {
     "end_time": "2018-01-27T07:10:59.933650Z",
     "start_time": "2018-01-27T07:10:59.929018Z"
    }
   },
   "outputs": [
    {
     "data": {
      "text/plain": [
       "'0b111000101101011111000000010100001011000011011011000001000010101101101001001010110001110110001011110100100101011011111111110010011100000010011010000001001101000001111011100010011001101101100010100101111110100100010011101010000110111101111111010011000'"
      ]
     },
     "execution_count": 11,
     "metadata": {},
     "output_type": "execute_result"
    }
   ],
   "source": [
    "bin(byte_to_int(secrets.token_bytes()))"
   ]
  },
  {
   "cell_type": "code",
   "execution_count": 72,
   "metadata": {
    "ExecuteTime": {
     "end_time": "2018-01-27T07:17:14.531510Z",
     "start_time": "2018-01-27T07:17:14.522246Z"
    }
   },
   "outputs": [
    {
     "name": "stdout",
     "output_type": "stream",
     "text": [
      "b'\\x04\\n\\xe5Oj|h%/A\\xd3\\xcct\\xb3\\xe2\\xfd\\x8d\\xa6\\xd2\\x08\\xe4\\x13\\xe1\\xd7/t\\x8d\\r\\xcf[\\xb5\\xb0'\n",
      "0b10000001010111001010100111101101010011111000110100000100101001011110100000111010011110011000111010010110011111000101111110110001101101001101101001000001000111001000001001111100001110101110010111101110100100011010000110111001111010110111011010110110000\n"
     ]
    }
   ],
   "source": [
    "s = secrets.token_bytes()\n",
    "\n",
    "\n",
    "while bin(byte_to_int(s))[3:][:5] != '00000':\n",
    "    s = secrets.token_bytes()\n",
    "    \n",
    "print(s)\n",
    "print(bin(byte_to_int(s)))"
   ]
  },
  {
   "cell_type": "code",
   "execution_count": 97,
   "metadata": {
    "ExecuteTime": {
     "end_time": "2018-01-27T07:22:23.961693Z",
     "start_time": "2018-01-27T07:22:23.941904Z"
    }
   },
   "outputs": [
    {
     "data": {
      "text/plain": [
       "(b'@\\x06\\xdbA\\xeak$\\xc1\\x9c\\xbd\\xf9\\x1ai\\x9a\\xa1\\xf3\\xc3_*ZgB\\x98\\xc0\\xf6\\xf5\\x16q>\\xaaV\\xa1',\n",
       " '00000000000110110110110100000111101010011010110010010011000001100111001011110111111001000110100110100110011010101000011111001111000011010111110010101001011010011001110100001010011000110000001111011011110101000101100111000100111110101010100101011010100001')"
      ]
     },
     "execution_count": 97,
     "metadata": {},
     "output_type": "execute_result"
    }
   ],
   "source": [
    "def mini_dyno(difficulty=10):\n",
    "    s = secrets.token_bytes()\n",
    "    while bin(byte_to_int(s))[3:][:difficulty] != ''.join(['0' for x in range(difficulty)]):\n",
    "        s = secrets.token_bytes()\n",
    "    return s, bin(byte_to_int(s))[3:]\n",
    "mini_dyno()"
   ]
  },
  {
   "cell_type": "code",
   "execution_count": 132,
   "metadata": {
    "ExecuteTime": {
     "end_time": "2018-01-27T07:30:02.602417Z",
     "start_time": "2018-01-27T07:29:30.346224Z"
    }
   },
   "outputs": [
    {
     "data": {
      "text/plain": [
       "(b'\\x1b\\xbc\\x1aQc\\x80I\\xb24\\xa6\\x8f\\xf0\\x1d\\xf0\\xeb\\xa0X\\x96\\x9b=\\x97\\xef\\xa4\\xc2X\\xa43\\x007\\x1e\\xf9\\xe0',\n",
       " '00000000000000000000111000111101000110001010101111111100011111011100000100110010100110110111100110001011110011101111010011110111110110111011111000101011010001011000010000001010110110010111011101110001101000011101111101100011101111110100010001001111100100')"
      ]
     },
     "execution_count": 132,
     "metadata": {},
     "output_type": "execute_result"
    }
   ],
   "source": [
    "def mini_dyno_payload(payload, difficulty=20):\n",
    "    # payload + nonce solves the puzzle. payload is a bytestring\n",
    "    s = secrets.token_bytes()\n",
    "    h = hashlib.sha256()\n",
    "    h.update(payload + s)\n",
    "    while bin(byte_to_int(h.digest()))[3:][:difficulty] != ''.join(['0' for x in range(difficulty)]):\n",
    "        s = secrets.token_bytes()\n",
    "        h = hashlib.sha256()\n",
    "        h.update(payload + s)\n",
    "    return s, bin(byte_to_int(h.digest()))[3:]\n",
    "\n",
    "payload = secrets.token_bytes(256)\n",
    "\n",
    "mini_dyno_payload(payload)"
   ]
  },
  {
   "cell_type": "code",
   "execution_count": null,
   "metadata": {},
   "outputs": [],
   "source": []
  },
  {
   "cell_type": "code",
   "execution_count": null,
   "metadata": {},
   "outputs": [],
   "source": []
  }
 ],
 "metadata": {
  "kernelspec": {
   "display_name": "Python 3",
   "language": "python",
   "name": "python3"
  },
  "language_info": {
   "codemirror_mode": {
    "name": "ipython",
    "version": 3
   },
   "file_extension": ".py",
   "mimetype": "text/x-python",
   "name": "python",
   "nbconvert_exporter": "python",
   "pygments_lexer": "ipython3",
   "version": "3.6.2"
  }
 },
 "nbformat": 4,
 "nbformat_minor": 2
}
