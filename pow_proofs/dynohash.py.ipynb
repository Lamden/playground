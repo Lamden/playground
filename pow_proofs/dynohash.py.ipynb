{
 "cells": [
  {
   "cell_type": "code",
   "execution_count": 1,
   "metadata": {
    "ExecuteTime": {
     "end_time": "2018-01-27T07:07:00.841351Z",
     "start_time": "2018-01-27T07:07:00.833218Z"
    }
   },
   "outputs": [],
   "source": [
    "# Dynohash\n",
    "# a dynamic POW hash puzzle based on a maximum payload\n",
    "# this is to maintain low tx fees but still allow complex data to be passed around\n",
    "# the idea is that lets assume a tx max size of 1kb\n",
    "# most txs are say 100 bytes\n",
    "# if an attacker wants to spam the network, if its not 10x as hard to solve a 1kb payload, then they can do \n",
    "# much more damage.\n",
    "# thus...\n",
    "#\n",
    "# take the original hashcash idea where H(PAYLOAD + nonce) = 0x000...abc, where the number of leading 0s\n",
    "# fluctuates. this is the difficulty\n",
    "# however, in a normal hash, which is usually 64 bytes, thats only 64 degrees of difficulty granularity\n",
    "# we should smash it down into binary where each byte is 8 bits so that a 64 byte payload now has\n",
    "# 512 degrees of granularity.\n",
    "# let's just code it.\n",
    "\n",
    "import hashlib"
   ]
  },
  {
   "cell_type": "code",
   "execution_count": 2,
   "metadata": {
    "ExecuteTime": {
     "end_time": "2018-01-27T07:07:12.573173Z",
     "start_time": "2018-01-27T07:07:12.570079Z"
    }
   },
   "outputs": [],
   "source": [
    "h = hashlib.sha256()"
   ]
  },
  {
   "cell_type": "code",
   "execution_count": 3,
   "metadata": {
    "ExecuteTime": {
     "end_time": "2018-01-27T07:07:23.003869Z",
     "start_time": "2018-01-27T07:07:22.998609Z"
    }
   },
   "outputs": [],
   "source": [
    "import secrets"
   ]
  },
  {
   "cell_type": "code",
   "execution_count": 5,
   "metadata": {
    "ExecuteTime": {
     "end_time": "2018-01-27T07:07:35.815139Z",
     "start_time": "2018-01-27T07:07:35.811096Z"
    }
   },
   "outputs": [
    {
     "data": {
      "text/plain": [
       "b'm\\x97\\xd3$Nj\\x06\\x9b\\xa3\\xdb\\x8a\\x0f!\\xefD\\xf5a1\\xc4 f\\xd9\\x83D\\xba\\x7f(\\x7f24\\x04\\x9e'"
      ]
     },
     "execution_count": 5,
     "metadata": {},
     "output_type": "execute_result"
    }
   ],
   "source": [
    "secrets.token_bytes()"
   ]
  },
  {
   "cell_type": "code",
   "execution_count": 10,
   "metadata": {
    "ExecuteTime": {
     "end_time": "2018-01-27T07:10:59.639594Z",
     "start_time": "2018-01-27T07:10:59.635483Z"
    }
   },
   "outputs": [],
   "source": [
    "def byte_to_int(b):\n",
    "    x = 0\n",
    "    for bb in b:\n",
    "        x = x * 256 + int(bb)\n",
    "    return x"
   ]
  },
  {
   "cell_type": "code",
   "execution_count": 11,
   "metadata": {
    "ExecuteTime": {
     "end_time": "2018-01-27T07:10:59.933650Z",
     "start_time": "2018-01-27T07:10:59.929018Z"
    }
   },
   "outputs": [
    {
     "data": {
      "text/plain": [
       "'0b111000101101011111000000010100001011000011011011000001000010101101101001001010110001110110001011110100100101011011111111110010011100000010011010000001001101000001111011100010011001101101100010100101111110100100010011101010000110111101111111010011000'"
      ]
     },
     "execution_count": 11,
     "metadata": {},
     "output_type": "execute_result"
    }
   ],
   "source": [
    "bin(byte_to_int(secrets.token_bytes()))"
   ]
  },
  {
   "cell_type": "code",
   "execution_count": 72,
   "metadata": {
    "ExecuteTime": {
     "end_time": "2018-01-27T07:17:14.531510Z",
     "start_time": "2018-01-27T07:17:14.522246Z"
    }
   },
   "outputs": [
    {
     "name": "stdout",
     "output_type": "stream",
     "text": [
      "b'\\x04\\n\\xe5Oj|h%/A\\xd3\\xcct\\xb3\\xe2\\xfd\\x8d\\xa6\\xd2\\x08\\xe4\\x13\\xe1\\xd7/t\\x8d\\r\\xcf[\\xb5\\xb0'\n",
      "0b10000001010111001010100111101101010011111000110100000100101001011110100000111010011110011000111010010110011111000101111110110001101101001101101001000001000111001000001001111100001110101110010111101110100100011010000110111001111010110111011010110110000\n"
     ]
    }
   ],
   "source": [
    "s = secrets.token_bytes()\n",
    "\n",
    "\n",
    "while bin(byte_to_int(s))[3:][:5] != '00000':\n",
    "    s = secrets.token_bytes()\n",
    "    \n",
    "print(s)\n",
    "print(bin(byte_to_int(s)))"
   ]
  },
  {
   "cell_type": "code",
   "execution_count": 97,
   "metadata": {
    "ExecuteTime": {
     "end_time": "2018-01-27T07:22:23.961693Z",
     "start_time": "2018-01-27T07:22:23.941904Z"
    }
   },
   "outputs": [
    {
     "data": {
      "text/plain": [
       "(b'@\\x06\\xdbA\\xeak$\\xc1\\x9c\\xbd\\xf9\\x1ai\\x9a\\xa1\\xf3\\xc3_*ZgB\\x98\\xc0\\xf6\\xf5\\x16q>\\xaaV\\xa1',\n",
       " '00000000000110110110110100000111101010011010110010010011000001100111001011110111111001000110100110100110011010101000011111001111000011010111110010101001011010011001110100001010011000110000001111011011110101000101100111000100111110101010100101011010100001')"
      ]
     },
     "execution_count": 97,
     "metadata": {},
     "output_type": "execute_result"
    }
   ],
   "source": [
    "def mini_dyno(difficulty=10):\n",
    "    s = secrets.token_bytes()\n",
    "    while bin(byte_to_int(s))[3:][:difficulty] != ''.join(['0' for x in range(difficulty)]):\n",
    "        s = secrets.token_bytes()\n",
    "    return s, bin(byte_to_int(s))[3:]\n",
    "mini_dyno()"
   ]
  },
  {
   "cell_type": "code",
   "execution_count": 134,
   "metadata": {
    "ExecuteTime": {
     "end_time": "2018-01-27T07:34:28.972380Z",
     "start_time": "2018-01-27T07:34:11.519819Z"
    }
   },
   "outputs": [
    {
     "data": {
      "text/plain": [
       "(b'\\xa1A\\xd7\\xa4\\x98\\xde1I!\\x9ar\\xce\\xd7\\x7f\\xd6\\xee\\xe6(\\xf6\\xb0\\xe0\\xd2f\\xf3i-\\rh\\x14F\\xb3\\xac',\n",
       " '000000000000000000001111010111001100101001101101000011000011111110100101001000101110101011101111110010001100011000011000001111011110110000110100011011101110010110011000100110010000010101110011011011110100101011001110010110001001110000010010101000111101111')"
      ]
     },
     "execution_count": 134,
     "metadata": {},
     "output_type": "execute_result"
    }
   ],
   "source": [
    "def mini_dyno_payload(payload, difficulty=19):\n",
    "    # payload + nonce solves the puzzle. payload is a bytestring\n",
    "    s = secrets.token_bytes()\n",
    "    h = hashlib.sha256()\n",
    "    h.update(payload + s)\n",
    "    while bin(byte_to_int(h.digest()))[3:][:difficulty] != ''.join(['0' for x in range(difficulty)]):\n",
    "        s = secrets.token_bytes()\n",
    "        h = hashlib.sha256()\n",
    "        h.update(payload + s)\n",
    "    return s, bin(byte_to_int(h.digest()))[3:]\n",
    "\n",
    "payload = secrets.token_bytes(256)\n",
    "\n",
    "mini_dyno_payload(payload)"
   ]
  },
  {
   "cell_type": "code",
   "execution_count": null,
   "metadata": {},
   "outputs": [],
   "source": [
    "# the differences in time between 18 - 20 difficulty is ridiculous...\n",
    "# what if we introduced a 'muddy proof' where the first X digits could only total up to a certain number?\n",
    "# this could provide even more granularity\n",
    "# first perhaps do time tests?"
   ]
  },
  {
   "cell_type": "code",
   "execution_count": 135,
   "metadata": {
    "ExecuteTime": {
     "end_time": "2018-01-27T07:35:34.023933Z",
     "start_time": "2018-01-27T07:35:34.020586Z"
    }
   },
   "outputs": [],
   "source": [
    "# TIME IT!\n",
    "import time\n",
    "current_milli_time = lambda: int(round(time.time() * 1000))"
   ]
  },
  {
   "cell_type": "code",
   "execution_count": 145,
   "metadata": {
    "ExecuteTime": {
     "end_time": "2018-01-27T07:38:45.265471Z",
     "start_time": "2018-01-27T07:38:43.446354Z"
    }
   },
   "outputs": [],
   "source": [
    "tt = []\n",
    "for y in range(10):\n",
    "    t = []\n",
    "    for x in range(100):\n",
    "        t_1 = current_milli_time()\n",
    "        payload = secrets.token_bytes(256)\n",
    "        mini_dyno_payload(payload, difficulty = y)\n",
    "        t_2 = current_milli_time()\n",
    "        t.append(t_2 - t_1)\n",
    "    tt.append(t)"
   ]
  },
  {
   "cell_type": "code",
   "execution_count": 147,
   "metadata": {
    "ExecuteTime": {
     "end_time": "2018-01-27T07:38:56.439700Z",
     "start_time": "2018-01-27T07:38:56.435824Z"
    }
   },
   "outputs": [
    {
     "name": "stdout",
     "output_type": "stream",
     "text": [
      "[[0, 0, 0, 0, 1, 0, 0, 0, 0, 0, 0, 0, 0, 0, 0, 0, 0, 0, 0, 0, 0, 1, 0, 0, 0, 0, 0, 0, 0, 0, 0, 0, 0, 0, 0, 0, 0, 0, 0, 1, 0, 0, 0, 0, 0, 0, 0, 0, 0, 0, 0, 0, 0, 0, 0, 1, 0, 0, 0, 0, 0, 0, 0, 0, 0, 0, 0, 0, 0, 0, 0, 0, 0, 0, 0, 0, 0, 1, 0, 0, 0, 0, 0, 0, 0, 0, 0, 0, 0, 0, 0, 0, 0, 0, 0, 0, 1, 0, 0, 0], [0, 0, 0, 0, 0, 0, 0, 0, 0, 0, 0, 0, 1, 0, 0, 0, 0, 0, 0, 0, 0, 0, 0, 0, 0, 0, 0, 0, 0, 1, 0, 0, 0, 0, 0, 0, 0, 0, 0, 0, 0, 1, 0, 0, 0, 0, 0, 0, 0, 0, 0, 0, 0, 0, 1, 0, 0, 0, 0, 0, 0, 1, 0, 0, 0, 0, 0, 0, 0, 0, 0, 1, 0, 0, 0, 0, 1, 0, 0, 0, 0, 0, 0, 1, 0, 0, 0, 0, 0, 0, 0, 0, 0, 0, 0, 0, 0, 1, 0, 0], [0, 0, 0, 0, 0, 0, 0, 0, 1, 0, 0, 0, 0, 0, 0, 0, 0, 0, 1, 0, 0, 0, 0, 0, 0, 0, 0, 1, 0, 0, 0, 0, 0, 0, 1, 0, 0, 0, 0, 0, 0, 0, 0, 0, 0, 0, 0, 1, 0, 0, 0, 0, 0, 0, 0, 1, 0, 0, 0, 0, 0, 0, 0, 0, 1, 0, 0, 0, 0, 0, 0, 1, 0, 0, 0, 0, 0, 0, 0, 0, 0, 0, 1, 0, 0, 0, 0, 0, 0, 0, 0, 0, 1, 0, 0, 0, 0, 0, 1, 0], [0, 0, 0, 0, 0, 1, 0, 0, 0, 0, 0, 1, 0, 0, 0, 0, 0, 0, 1, 0, 0, 0, 1, 0, 0, 0, 0, 0, 1, 0, 0, 0, 0, 0, 0, 0, 1, 0, 0, 0, 0, 0, 1, 0, 0, 0, 0, 0, 0, 0, 0, 0, 0, 0, 1, 0, 0, 0, 0, 0, 0, 1, 0, 0, 0, 0, 1, 0, 0, 0, 0, 0, 0, 1, 1, 0, 0, 0, 0, 1, 0, 0, 0, 1, 0, 0, 0, 0, 0, 1, 0, 0, 0, 1, 0, 0, 0, 0, 0, 1], [0, 0, 0, 0, 1, 0, 0, 1, 0, 0, 0, 1, 0, 0, 0, 0, 0, 1, 1, 0, 1, 0, 0, 1, 0, 0, 1, 1, 0, 0, 0, 0, 1, 1, 0, 1, 0, 0, 0, 1, 0, 0, 0, 1, 0, 0, 0, 0, 0, 1, 0, 0, 0, 1, 0, 0, 1, 0, 1, 0, 1, 0, 0, 0, 1, 0, 1, 0, 1, 0, 0, 1, 0, 0, 1, 1, 0, 1, 0, 1, 1, 1, 1, 0, 1, 1, 0, 1, 0, 0, 1, 1, 0, 1, 0, 2, 1, 0, 0, 1], [1, 0, 1, 0, 1, 0, 0, 0, 1, 1, 1, 0, 1, 3, 1, 1, 1, 0, 0, 1, 0, 1, 0, 1, 1, 2, 0, 0, 1, 0, 1, 0, 1, 0, 1, 1, 0, 1, 1, 0, 1, 0, 1, 0, 1, 0, 0, 1, 1, 1, 0, 1, 1, 1, 0, 0, 0, 1, 0, 1, 0, 3, 3, 0, 0, 1, 1, 2, 0, 0, 0, 1, 0, 1, 2, 0, 1, 0, 0, 0, 1, 1, 0, 1, 0, 0, 1, 2, 0, 0, 0, 0, 1, 1, 0, 0, 1, 2, 0, 1], [0, 0, 1, 1, 1, 0, 0, 2, 0, 0, 1, 2, 5, 3, 2, 1, 1, 2, 1, 2, 4, 4, 0, 1, 0, 0, 0, 2, 0, 1, 1, 0, 1, 1, 1, 0, 0, 1, 2, 2, 1, 1, 1, 0, 1, 1, 0, 3, 1, 1, 3, 1, 1, 2, 1, 1, 1, 1, 1, 2, 1, 2, 1, 0, 0, 2, 4, 1, 2, 1, 1, 0, 0, 2, 0, 1, 1, 1, 1, 1, 1, 2, 1, 0, 3, 2, 1, 1, 1, 1, 1, 1, 0, 1, 1, 1, 1, 4, 0, 2], [1, 1, 1, 0, 1, 3, 0, 1, 1, 3, 2, 4, 2, 4, 3, 0, 0, 1, 1, 6, 4, 2, 2, 7, 0, 0, 0, 3, 3, 1, 1, 0, 1, 0, 0, 5, 2, 2, 0, 2, 1, 4, 0, 4, 0, 1, 1, 3, 5, 1, 5, 1, 3, 3, 2, 3, 3, 2, 0, 0, 1, 3, 1, 5, 2, 1, 5, 2, 0, 4, 5, 1, 0, 13, 2, 1, 1, 1, 4, 0, 0, 5, 2, 1, 3, 1, 1, 1, 5, 2, 1, 1, 2, 2, 1, 1, 1, 4, 1, 4], [5, 2, 6, 3, 16, 3, 2, 3, 3, 2, 3, 3, 12, 1, 2, 7, 1, 4, 1, 2, 26, 4, 1, 1, 1, 1, 6, 5, 9, 3, 4, 9, 14, 1, 1, 7, 4, 2, 4, 14, 4, 6, 1, 17, 8, 6, 7, 4, 13, 2, 7, 5, 7, 2, 4, 4, 2, 1, 1, 0, 1, 1, 3, 5, 7, 2, 2, 2, 1, 10, 2, 3, 1, 2, 0, 3, 2, 1, 1, 5, 6, 1, 1, 3, 3, 17, 1, 14, 2, 9, 11, 1, 5, 0, 3, 11, 1, 12, 1, 1], [13, 38, 0, 3, 11, 28, 5, 0, 1, 21, 2, 17, 6, 15, 0, 2, 2, 1, 9, 18, 7, 31, 0, 7, 6, 8, 16, 1, 15, 14, 26, 5, 1, 25, 0, 7, 28, 27, 11, 3, 2, 6, 1, 0, 6, 9, 6, 5, 7, 21, 14, 17, 16, 3, 11, 21, 34, 5, 4, 11, 2, 14, 10, 0, 11, 1, 1, 4, 7, 2, 1, 6, 2, 4, 1, 4, 2, 13, 22, 1, 12, 3, 7, 1, 13, 4, 10, 8, 2, 1, 8, 12, 9, 27, 10, 6, 2, 0, 11, 4]]\n"
     ]
    }
   ],
   "source": [
    "print(tt)"
   ]
  },
  {
   "cell_type": "code",
   "execution_count": 148,
   "metadata": {
    "ExecuteTime": {
     "end_time": "2018-01-27T07:39:24.429869Z",
     "start_time": "2018-01-27T07:39:24.425123Z"
    }
   },
   "outputs": [
    {
     "data": {
      "text/plain": [
       "[0.06, 0.09, 0.11, 0.17, 0.4, 0.64, 1.17, 2.03, 4.56, 8.87]"
      ]
     },
     "execution_count": 148,
     "metadata": {},
     "output_type": "execute_result"
    }
   ],
   "source": [
    "[sum(l) / float(len(l)) for l in tt]"
   ]
  },
  {
   "cell_type": "code",
   "execution_count": 149,
   "metadata": {
    "ExecuteTime": {
     "end_time": "2018-01-27T07:40:11.818878Z",
     "start_time": "2018-01-27T07:40:11.230006Z"
    }
   },
   "outputs": [
    {
     "data": {
      "image/png": "[encoded data removed]",
      "text/plain": [
       "<matplotlib.figure.Figure at 0x10667f160>"
      ]
     },
     "metadata": {},
     "output_type": "display_data"
    }
   ],
   "source": [
    "import matplotlib.pyplot as plt\n",
    "plt.plot([sum(l) / float(len(l)) for l in tt])\n",
    "plt.show()"
   ]
  },
  {
   "cell_type": "code",
   "execution_count": null,
   "metadata": {},
   "outputs": [],
   "source": []
  }
 ],
 "metadata": {
  "kernelspec": {
   "display_name": "Python 3",
   "language": "python",
   "name": "python3"
  },
  "language_info": {
   "codemirror_mode": {
    "name": "ipython",
    "version": 3
   },
   "file_extension": ".py",
   "mimetype": "text/x-python",
   "name": "python",
   "nbconvert_exporter": "python",
   "pygments_lexer": "ipython3",
   "version": "3.6.2"
  }
 },
 "nbformat": 4,
 "nbformat_minor": 2
}
